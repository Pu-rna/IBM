{
  "nbformat": 4,
  "nbformat_minor": 0,
  "metadata": {
    "colab": {
      "provenance": []
    },
    "kernelspec": {
      "name": "python3",
      "display_name": "Python 3"
    },
    "language_info": {
      "name": "python"
    }
  },
  "cells": [
    {
      "cell_type": "code",
      "execution_count": 1,
      "metadata": {
        "id": "kQuDEX7LtYPi"
      },
      "outputs": [],
      "source": [
        "# Importing Pandas Library to read the dataset\n",
        "import pandas as pd"
      ]
    },
    {
      "cell_type": "code",
      "source": [
        "# Reading the dataset and storing it in a variable named ds for further use\n",
        "data = pd.read_csv('/content/Employee_salary (2).csv')"
      ],
      "metadata": {
        "id": "nP14pjUQtisu"
      },
      "execution_count": 2,
      "outputs": []
    },
    {
      "cell_type": "code",
      "source": [
        "# Checking The Dataset\n",
        "data"
      ],
      "metadata": {
        "colab": {
          "base_uri": "https://localhost:8080/",
          "height": 770
        },
        "id": "-i_rwbEDuF0L",
        "outputId": "1850dad4-4c4b-4990-f98e-d43d7d234c1c"
      },
      "execution_count": 3,
      "outputs": [
        {
          "output_type": "execute_result",
          "data": {
            "text/plain": [
              "                    Name                                            Address  \\\n",
              "0           Allison Hill  8820 Gould Ramp Suite 112, South Denise, WI 03530   \n",
              "1            Noah Rhodes       62433 Melissa Square, Gregoryburgh, MD 50632   \n",
              "2        Angie Henderson          3243 Holmes Court, Carlaborough, OR 36893   \n",
              "3          Daniel Wagner           0991 Taylor Manor, Michaelport, DE 65083   \n",
              "4        Cristian Santos  0922 Hall Spring Apt. 002, Robinsonhaven, NH 8...   \n",
              "...                  ...                                                ...   \n",
              "44995  Shelby Washington  2184 Torres Vista Suite 859, Port Olivia, CA 4...   \n",
              "44996      Lori Randolph       50907 Rebekah Shores, Williamsfort, TX 31917   \n",
              "44997      Jessica Adams            8456 Megan Pass, Jonathanbury, VA 27610   \n",
              "44998         Lisa Rocha   56683 Javier Keys Apt. 191, Ashleeview, VA 16145   \n",
              "44999        Jacob Davis  9645 Stewart Groves Apt. 103, North Tammy, FL ...   \n",
              "\n",
              "       Age               Phone No.                           Email  \\\n",
              "0       60       612.667.9222x9674            andrew65@hotmail.com   \n",
              "1       50   +1-043-482-7518x48158       faithhall@hays-cooper.com   \n",
              "2       36       289.951.0796x5315            farmstrong@rojas.com   \n",
              "3       64         +1-715-965-4257         rachelgraves@barron.com   \n",
              "4       29     (956)386-8766x50872  genejimenez@johnson-fisher.org   \n",
              "...    ...                     ...                             ...   \n",
              "44995   55        399-306-0993x872                peggy00@berg.com   \n",
              "44996   28  001-846-884-5224x29677            marywalton@gmail.com   \n",
              "44997   49       545.398.7765x6760              obrown@hotmail.com   \n",
              "44998   30              2124469466           jessicawang@gmail.com   \n",
              "44999   32            206.285.9208     joseph24@obrien-ramirez.com   \n",
              "\n",
              "      Marital Status Educational Qualification  Gender    Relationship  \\\n",
              "0             Single                  Bachelor    Male       Own-child   \n",
              "1             Single               High School   Other       Own-child   \n",
              "2           Divorced                    Master   Other  Other-relative   \n",
              "3            Married               High School   Other         Husband   \n",
              "4            Married                       PhD    Male            Wife   \n",
              "...              ...                       ...     ...             ...   \n",
              "44995       Divorced                       PhD    Male       Unmarried   \n",
              "44996         Single                       PhD  Female  Other-relative   \n",
              "44997        Widowed                       PhD  Female         Husband   \n",
              "44998        Married                   Diploma    Male            Wife   \n",
              "44999        Married               High School    Male         Husband   \n",
              "\n",
              "         Job Type          Job Title   Job Location  Rating  Capital Gain  \\\n",
              "0         Private  Software Engineer         Austin     2.4          8356   \n",
              "1      Unemployed    Project Manager    Los Angeles     2.8          2208   \n",
              "2      Unemployed         HR Manager  San Francisco     2.2         23773   \n",
              "3         Private    Sales Executive       New York     4.1         40038   \n",
              "4      Government    Project Manager         Boston     2.6         47113   \n",
              "...           ...                ...            ...     ...           ...   \n",
              "44995     Private    Project Manager       New York     4.0         10309   \n",
              "44996     Private     Data Scientist         Austin     4.2         42664   \n",
              "44997  Government    Project Manager         Boston     2.1         25987   \n",
              "44998  Unemployed     Data Scientist        Chicago     3.4          4566   \n",
              "44999  Government         Accountant        Chicago     2.9         11458   \n",
              "\n",
              "       Capital Loss  Working Hours (Weekly)  Work Experience (Year)  \\\n",
              "0              1372                      36                      27   \n",
              "1              8170                      41                      20   \n",
              "2              9607                      53                      26   \n",
              "3              6047                      49                      39   \n",
              "4              7763                      33                      36   \n",
              "...             ...                     ...                     ...   \n",
              "44995          8493                      49                      31   \n",
              "44996          9858                      53                       1   \n",
              "44997          7725                      42                      39   \n",
              "44998          4734                      43                      20   \n",
              "44999           435                      21                       1   \n",
              "\n",
              "       Income Estimation (Yearly)  \n",
              "0                          153061  \n",
              "1                           74968  \n",
              "2                          100926  \n",
              "3                           82796  \n",
              "4                           77747  \n",
              "...                           ...  \n",
              "44995                      155014  \n",
              "44996                       84918  \n",
              "44997                      141131  \n",
              "44998                      196295  \n",
              "44999                       57225  \n",
              "\n",
              "[45000 rows x 18 columns]"
            ],
            "text/html": [
              "\n",
              "  <div id=\"df-2b4e819b-260d-48ae-a61d-3de6ffe3886e\" class=\"colab-df-container\">\n",
              "    <div>\n",
              "<style scoped>\n",
              "    .dataframe tbody tr th:only-of-type {\n",
              "        vertical-align: middle;\n",
              "    }\n",
              "\n",
              "    .dataframe tbody tr th {\n",
              "        vertical-align: top;\n",
              "    }\n",
              "\n",
              "    .dataframe thead th {\n",
              "        text-align: right;\n",
              "    }\n",
              "</style>\n",
              "<table border=\"1\" class=\"dataframe\">\n",
              "  <thead>\n",
              "    <tr style=\"text-align: right;\">\n",
              "      <th></th>\n",
              "      <th>Name</th>\n",
              "      <th>Address</th>\n",
              "      <th>Age</th>\n",
              "      <th>Phone No.</th>\n",
              "      <th>Email</th>\n",
              "      <th>Marital Status</th>\n",
              "      <th>Educational Qualification</th>\n",
              "      <th>Gender</th>\n",
              "      <th>Relationship</th>\n",
              "      <th>Job Type</th>\n",
              "      <th>Job Title</th>\n",
              "      <th>Job Location</th>\n",
              "      <th>Rating</th>\n",
              "      <th>Capital Gain</th>\n",
              "      <th>Capital Loss</th>\n",
              "      <th>Working Hours (Weekly)</th>\n",
              "      <th>Work Experience (Year)</th>\n",
              "      <th>Income Estimation (Yearly)</th>\n",
              "    </tr>\n",
              "  </thead>\n",
              "  <tbody>\n",
              "    <tr>\n",
              "      <th>0</th>\n",
              "      <td>Allison Hill</td>\n",
              "      <td>8820 Gould Ramp Suite 112, South Denise, WI 03530</td>\n",
              "      <td>60</td>\n",
              "      <td>612.667.9222x9674</td>\n",
              "      <td>andrew65@hotmail.com</td>\n",
              "      <td>Single</td>\n",
              "      <td>Bachelor</td>\n",
              "      <td>Male</td>\n",
              "      <td>Own-child</td>\n",
              "      <td>Private</td>\n",
              "      <td>Software Engineer</td>\n",
              "      <td>Austin</td>\n",
              "      <td>2.4</td>\n",
              "      <td>8356</td>\n",
              "      <td>1372</td>\n",
              "      <td>36</td>\n",
              "      <td>27</td>\n",
              "      <td>153061</td>\n",
              "    </tr>\n",
              "    <tr>\n",
              "      <th>1</th>\n",
              "      <td>Noah Rhodes</td>\n",
              "      <td>62433 Melissa Square, Gregoryburgh, MD 50632</td>\n",
              "      <td>50</td>\n",
              "      <td>+1-043-482-7518x48158</td>\n",
              "      <td>faithhall@hays-cooper.com</td>\n",
              "      <td>Single</td>\n",
              "      <td>High School</td>\n",
              "      <td>Other</td>\n",
              "      <td>Own-child</td>\n",
              "      <td>Unemployed</td>\n",
              "      <td>Project Manager</td>\n",
              "      <td>Los Angeles</td>\n",
              "      <td>2.8</td>\n",
              "      <td>2208</td>\n",
              "      <td>8170</td>\n",
              "      <td>41</td>\n",
              "      <td>20</td>\n",
              "      <td>74968</td>\n",
              "    </tr>\n",
              "    <tr>\n",
              "      <th>2</th>\n",
              "      <td>Angie Henderson</td>\n",
              "      <td>3243 Holmes Court, Carlaborough, OR 36893</td>\n",
              "      <td>36</td>\n",
              "      <td>289.951.0796x5315</td>\n",
              "      <td>farmstrong@rojas.com</td>\n",
              "      <td>Divorced</td>\n",
              "      <td>Master</td>\n",
              "      <td>Other</td>\n",
              "      <td>Other-relative</td>\n",
              "      <td>Unemployed</td>\n",
              "      <td>HR Manager</td>\n",
              "      <td>San Francisco</td>\n",
              "      <td>2.2</td>\n",
              "      <td>23773</td>\n",
              "      <td>9607</td>\n",
              "      <td>53</td>\n",
              "      <td>26</td>\n",
              "      <td>100926</td>\n",
              "    </tr>\n",
              "    <tr>\n",
              "      <th>3</th>\n",
              "      <td>Daniel Wagner</td>\n",
              "      <td>0991 Taylor Manor, Michaelport, DE 65083</td>\n",
              "      <td>64</td>\n",
              "      <td>+1-715-965-4257</td>\n",
              "      <td>rachelgraves@barron.com</td>\n",
              "      <td>Married</td>\n",
              "      <td>High School</td>\n",
              "      <td>Other</td>\n",
              "      <td>Husband</td>\n",
              "      <td>Private</td>\n",
              "      <td>Sales Executive</td>\n",
              "      <td>New York</td>\n",
              "      <td>4.1</td>\n",
              "      <td>40038</td>\n",
              "      <td>6047</td>\n",
              "      <td>49</td>\n",
              "      <td>39</td>\n",
              "      <td>82796</td>\n",
              "    </tr>\n",
              "    <tr>\n",
              "      <th>4</th>\n",
              "      <td>Cristian Santos</td>\n",
              "      <td>0922 Hall Spring Apt. 002, Robinsonhaven, NH 8...</td>\n",
              "      <td>29</td>\n",
              "      <td>(956)386-8766x50872</td>\n",
              "      <td>genejimenez@johnson-fisher.org</td>\n",
              "      <td>Married</td>\n",
              "      <td>PhD</td>\n",
              "      <td>Male</td>\n",
              "      <td>Wife</td>\n",
              "      <td>Government</td>\n",
              "      <td>Project Manager</td>\n",
              "      <td>Boston</td>\n",
              "      <td>2.6</td>\n",
              "      <td>47113</td>\n",
              "      <td>7763</td>\n",
              "      <td>33</td>\n",
              "      <td>36</td>\n",
              "      <td>77747</td>\n",
              "    </tr>\n",
              "    <tr>\n",
              "      <th>...</th>\n",
              "      <td>...</td>\n",
              "      <td>...</td>\n",
              "      <td>...</td>\n",
              "      <td>...</td>\n",
              "      <td>...</td>\n",
              "      <td>...</td>\n",
              "      <td>...</td>\n",
              "      <td>...</td>\n",
              "      <td>...</td>\n",
              "      <td>...</td>\n",
              "      <td>...</td>\n",
              "      <td>...</td>\n",
              "      <td>...</td>\n",
              "      <td>...</td>\n",
              "      <td>...</td>\n",
              "      <td>...</td>\n",
              "      <td>...</td>\n",
              "      <td>...</td>\n",
              "    </tr>\n",
              "    <tr>\n",
              "      <th>44995</th>\n",
              "      <td>Shelby Washington</td>\n",
              "      <td>2184 Torres Vista Suite 859, Port Olivia, CA 4...</td>\n",
              "      <td>55</td>\n",
              "      <td>399-306-0993x872</td>\n",
              "      <td>peggy00@berg.com</td>\n",
              "      <td>Divorced</td>\n",
              "      <td>PhD</td>\n",
              "      <td>Male</td>\n",
              "      <td>Unmarried</td>\n",
              "      <td>Private</td>\n",
              "      <td>Project Manager</td>\n",
              "      <td>New York</td>\n",
              "      <td>4.0</td>\n",
              "      <td>10309</td>\n",
              "      <td>8493</td>\n",
              "      <td>49</td>\n",
              "      <td>31</td>\n",
              "      <td>155014</td>\n",
              "    </tr>\n",
              "    <tr>\n",
              "      <th>44996</th>\n",
              "      <td>Lori Randolph</td>\n",
              "      <td>50907 Rebekah Shores, Williamsfort, TX 31917</td>\n",
              "      <td>28</td>\n",
              "      <td>001-846-884-5224x29677</td>\n",
              "      <td>marywalton@gmail.com</td>\n",
              "      <td>Single</td>\n",
              "      <td>PhD</td>\n",
              "      <td>Female</td>\n",
              "      <td>Other-relative</td>\n",
              "      <td>Private</td>\n",
              "      <td>Data Scientist</td>\n",
              "      <td>Austin</td>\n",
              "      <td>4.2</td>\n",
              "      <td>42664</td>\n",
              "      <td>9858</td>\n",
              "      <td>53</td>\n",
              "      <td>1</td>\n",
              "      <td>84918</td>\n",
              "    </tr>\n",
              "    <tr>\n",
              "      <th>44997</th>\n",
              "      <td>Jessica Adams</td>\n",
              "      <td>8456 Megan Pass, Jonathanbury, VA 27610</td>\n",
              "      <td>49</td>\n",
              "      <td>545.398.7765x6760</td>\n",
              "      <td>obrown@hotmail.com</td>\n",
              "      <td>Widowed</td>\n",
              "      <td>PhD</td>\n",
              "      <td>Female</td>\n",
              "      <td>Husband</td>\n",
              "      <td>Government</td>\n",
              "      <td>Project Manager</td>\n",
              "      <td>Boston</td>\n",
              "      <td>2.1</td>\n",
              "      <td>25987</td>\n",
              "      <td>7725</td>\n",
              "      <td>42</td>\n",
              "      <td>39</td>\n",
              "      <td>141131</td>\n",
              "    </tr>\n",
              "    <tr>\n",
              "      <th>44998</th>\n",
              "      <td>Lisa Rocha</td>\n",
              "      <td>56683 Javier Keys Apt. 191, Ashleeview, VA 16145</td>\n",
              "      <td>30</td>\n",
              "      <td>2124469466</td>\n",
              "      <td>jessicawang@gmail.com</td>\n",
              "      <td>Married</td>\n",
              "      <td>Diploma</td>\n",
              "      <td>Male</td>\n",
              "      <td>Wife</td>\n",
              "      <td>Unemployed</td>\n",
              "      <td>Data Scientist</td>\n",
              "      <td>Chicago</td>\n",
              "      <td>3.4</td>\n",
              "      <td>4566</td>\n",
              "      <td>4734</td>\n",
              "      <td>43</td>\n",
              "      <td>20</td>\n",
              "      <td>196295</td>\n",
              "    </tr>\n",
              "    <tr>\n",
              "      <th>44999</th>\n",
              "      <td>Jacob Davis</td>\n",
              "      <td>9645 Stewart Groves Apt. 103, North Tammy, FL ...</td>\n",
              "      <td>32</td>\n",
              "      <td>206.285.9208</td>\n",
              "      <td>joseph24@obrien-ramirez.com</td>\n",
              "      <td>Married</td>\n",
              "      <td>High School</td>\n",
              "      <td>Male</td>\n",
              "      <td>Husband</td>\n",
              "      <td>Government</td>\n",
              "      <td>Accountant</td>\n",
              "      <td>Chicago</td>\n",
              "      <td>2.9</td>\n",
              "      <td>11458</td>\n",
              "      <td>435</td>\n",
              "      <td>21</td>\n",
              "      <td>1</td>\n",
              "      <td>57225</td>\n",
              "    </tr>\n",
              "  </tbody>\n",
              "</table>\n",
              "<p>45000 rows × 18 columns</p>\n",
              "</div>\n",
              "    <div class=\"colab-df-buttons\">\n",
              "\n",
              "  <div class=\"colab-df-container\">\n",
              "    <button class=\"colab-df-convert\" onclick=\"convertToInteractive('df-2b4e819b-260d-48ae-a61d-3de6ffe3886e')\"\n",
              "            title=\"Convert this dataframe to an interactive table.\"\n",
              "            style=\"display:none;\">\n",
              "\n",
              "  <svg xmlns=\"http://www.w3.org/2000/svg\" height=\"24px\" viewBox=\"0 -960 960 960\">\n",
              "    <path d=\"M120-120v-720h720v720H120Zm60-500h600v-160H180v160Zm220 220h160v-160H400v160Zm0 220h160v-160H400v160ZM180-400h160v-160H180v160Zm440 0h160v-160H620v160ZM180-180h160v-160H180v160Zm440 0h160v-160H620v160Z\"/>\n",
              "  </svg>\n",
              "    </button>\n",
              "\n",
              "  <style>\n",
              "    .colab-df-container {\n",
              "      display:flex;\n",
              "      gap: 12px;\n",
              "    }\n",
              "\n",
              "    .colab-df-convert {\n",
              "      background-color: #E8F0FE;\n",
              "      border: none;\n",
              "      border-radius: 50%;\n",
              "      cursor: pointer;\n",
              "      display: none;\n",
              "      fill: #1967D2;\n",
              "      height: 32px;\n",
              "      padding: 0 0 0 0;\n",
              "      width: 32px;\n",
              "    }\n",
              "\n",
              "    .colab-df-convert:hover {\n",
              "      background-color: #E2EBFA;\n",
              "      box-shadow: 0px 1px 2px rgba(60, 64, 67, 0.3), 0px 1px 3px 1px rgba(60, 64, 67, 0.15);\n",
              "      fill: #174EA6;\n",
              "    }\n",
              "\n",
              "    .colab-df-buttons div {\n",
              "      margin-bottom: 4px;\n",
              "    }\n",
              "\n",
              "    [theme=dark] .colab-df-convert {\n",
              "      background-color: #3B4455;\n",
              "      fill: #D2E3FC;\n",
              "    }\n",
              "\n",
              "    [theme=dark] .colab-df-convert:hover {\n",
              "      background-color: #434B5C;\n",
              "      box-shadow: 0px 1px 3px 1px rgba(0, 0, 0, 0.15);\n",
              "      filter: drop-shadow(0px 1px 2px rgba(0, 0, 0, 0.3));\n",
              "      fill: #FFFFFF;\n",
              "    }\n",
              "  </style>\n",
              "\n",
              "    <script>\n",
              "      const buttonEl =\n",
              "        document.querySelector('#df-2b4e819b-260d-48ae-a61d-3de6ffe3886e button.colab-df-convert');\n",
              "      buttonEl.style.display =\n",
              "        google.colab.kernel.accessAllowed ? 'block' : 'none';\n",
              "\n",
              "      async function convertToInteractive(key) {\n",
              "        const element = document.querySelector('#df-2b4e819b-260d-48ae-a61d-3de6ffe3886e');\n",
              "        const dataTable =\n",
              "          await google.colab.kernel.invokeFunction('convertToInteractive',\n",
              "                                                    [key], {});\n",
              "        if (!dataTable) return;\n",
              "\n",
              "        const docLinkHtml = 'Like what you see? Visit the ' +\n",
              "          '<a target=\"_blank\" href=https://colab.research.google.com/notebooks/data_table.ipynb>data table notebook</a>'\n",
              "          + ' to learn more about interactive tables.';\n",
              "        element.innerHTML = '';\n",
              "        dataTable['output_type'] = 'display_data';\n",
              "        await google.colab.output.renderOutput(dataTable, element);\n",
              "        const docLink = document.createElement('div');\n",
              "        docLink.innerHTML = docLinkHtml;\n",
              "        element.appendChild(docLink);\n",
              "      }\n",
              "    </script>\n",
              "  </div>\n",
              "\n",
              "\n",
              "    <div id=\"df-7b3e8c2f-1f96-4821-acef-1e3127acdc76\">\n",
              "      <button class=\"colab-df-quickchart\" onclick=\"quickchart('df-7b3e8c2f-1f96-4821-acef-1e3127acdc76')\"\n",
              "                title=\"Suggest charts\"\n",
              "                style=\"display:none;\">\n",
              "\n",
              "<svg xmlns=\"http://www.w3.org/2000/svg\" height=\"24px\"viewBox=\"0 0 24 24\"\n",
              "     width=\"24px\">\n",
              "    <g>\n",
              "        <path d=\"M19 3H5c-1.1 0-2 .9-2 2v14c0 1.1.9 2 2 2h14c1.1 0 2-.9 2-2V5c0-1.1-.9-2-2-2zM9 17H7v-7h2v7zm4 0h-2V7h2v10zm4 0h-2v-4h2v4z\"/>\n",
              "    </g>\n",
              "</svg>\n",
              "      </button>\n",
              "\n",
              "<style>\n",
              "  .colab-df-quickchart {\n",
              "      --bg-color: #E8F0FE;\n",
              "      --fill-color: #1967D2;\n",
              "      --hover-bg-color: #E2EBFA;\n",
              "      --hover-fill-color: #174EA6;\n",
              "      --disabled-fill-color: #AAA;\n",
              "      --disabled-bg-color: #DDD;\n",
              "  }\n",
              "\n",
              "  [theme=dark] .colab-df-quickchart {\n",
              "      --bg-color: #3B4455;\n",
              "      --fill-color: #D2E3FC;\n",
              "      --hover-bg-color: #434B5C;\n",
              "      --hover-fill-color: #FFFFFF;\n",
              "      --disabled-bg-color: #3B4455;\n",
              "      --disabled-fill-color: #666;\n",
              "  }\n",
              "\n",
              "  .colab-df-quickchart {\n",
              "    background-color: var(--bg-color);\n",
              "    border: none;\n",
              "    border-radius: 50%;\n",
              "    cursor: pointer;\n",
              "    display: none;\n",
              "    fill: var(--fill-color);\n",
              "    height: 32px;\n",
              "    padding: 0;\n",
              "    width: 32px;\n",
              "  }\n",
              "\n",
              "  .colab-df-quickchart:hover {\n",
              "    background-color: var(--hover-bg-color);\n",
              "    box-shadow: 0 1px 2px rgba(60, 64, 67, 0.3), 0 1px 3px 1px rgba(60, 64, 67, 0.15);\n",
              "    fill: var(--button-hover-fill-color);\n",
              "  }\n",
              "\n",
              "  .colab-df-quickchart-complete:disabled,\n",
              "  .colab-df-quickchart-complete:disabled:hover {\n",
              "    background-color: var(--disabled-bg-color);\n",
              "    fill: var(--disabled-fill-color);\n",
              "    box-shadow: none;\n",
              "  }\n",
              "\n",
              "  .colab-df-spinner {\n",
              "    border: 2px solid var(--fill-color);\n",
              "    border-color: transparent;\n",
              "    border-bottom-color: var(--fill-color);\n",
              "    animation:\n",
              "      spin 1s steps(1) infinite;\n",
              "  }\n",
              "\n",
              "  @keyframes spin {\n",
              "    0% {\n",
              "      border-color: transparent;\n",
              "      border-bottom-color: var(--fill-color);\n",
              "      border-left-color: var(--fill-color);\n",
              "    }\n",
              "    20% {\n",
              "      border-color: transparent;\n",
              "      border-left-color: var(--fill-color);\n",
              "      border-top-color: var(--fill-color);\n",
              "    }\n",
              "    30% {\n",
              "      border-color: transparent;\n",
              "      border-left-color: var(--fill-color);\n",
              "      border-top-color: var(--fill-color);\n",
              "      border-right-color: var(--fill-color);\n",
              "    }\n",
              "    40% {\n",
              "      border-color: transparent;\n",
              "      border-right-color: var(--fill-color);\n",
              "      border-top-color: var(--fill-color);\n",
              "    }\n",
              "    60% {\n",
              "      border-color: transparent;\n",
              "      border-right-color: var(--fill-color);\n",
              "    }\n",
              "    80% {\n",
              "      border-color: transparent;\n",
              "      border-right-color: var(--fill-color);\n",
              "      border-bottom-color: var(--fill-color);\n",
              "    }\n",
              "    90% {\n",
              "      border-color: transparent;\n",
              "      border-bottom-color: var(--fill-color);\n",
              "    }\n",
              "  }\n",
              "</style>\n",
              "\n",
              "      <script>\n",
              "        async function quickchart(key) {\n",
              "          const quickchartButtonEl =\n",
              "            document.querySelector('#' + key + ' button');\n",
              "          quickchartButtonEl.disabled = true;  // To prevent multiple clicks.\n",
              "          quickchartButtonEl.classList.add('colab-df-spinner');\n",
              "          try {\n",
              "            const charts = await google.colab.kernel.invokeFunction(\n",
              "                'suggestCharts', [key], {});\n",
              "          } catch (error) {\n",
              "            console.error('Error during call to suggestCharts:', error);\n",
              "          }\n",
              "          quickchartButtonEl.classList.remove('colab-df-spinner');\n",
              "          quickchartButtonEl.classList.add('colab-df-quickchart-complete');\n",
              "        }\n",
              "        (() => {\n",
              "          let quickchartButtonEl =\n",
              "            document.querySelector('#df-7b3e8c2f-1f96-4821-acef-1e3127acdc76 button');\n",
              "          quickchartButtonEl.style.display =\n",
              "            google.colab.kernel.accessAllowed ? 'block' : 'none';\n",
              "        })();\n",
              "      </script>\n",
              "    </div>\n",
              "\n",
              "  <div id=\"id_f1d9d46f-cf7e-45ab-97ff-3f29d8f79aab\">\n",
              "    <style>\n",
              "      .colab-df-generate {\n",
              "        background-color: #E8F0FE;\n",
              "        border: none;\n",
              "        border-radius: 50%;\n",
              "        cursor: pointer;\n",
              "        display: none;\n",
              "        fill: #1967D2;\n",
              "        height: 32px;\n",
              "        padding: 0 0 0 0;\n",
              "        width: 32px;\n",
              "      }\n",
              "\n",
              "      .colab-df-generate:hover {\n",
              "        background-color: #E2EBFA;\n",
              "        box-shadow: 0px 1px 2px rgba(60, 64, 67, 0.3), 0px 1px 3px 1px rgba(60, 64, 67, 0.15);\n",
              "        fill: #174EA6;\n",
              "      }\n",
              "\n",
              "      [theme=dark] .colab-df-generate {\n",
              "        background-color: #3B4455;\n",
              "        fill: #D2E3FC;\n",
              "      }\n",
              "\n",
              "      [theme=dark] .colab-df-generate:hover {\n",
              "        background-color: #434B5C;\n",
              "        box-shadow: 0px 1px 3px 1px rgba(0, 0, 0, 0.15);\n",
              "        filter: drop-shadow(0px 1px 2px rgba(0, 0, 0, 0.3));\n",
              "        fill: #FFFFFF;\n",
              "      }\n",
              "    </style>\n",
              "    <button class=\"colab-df-generate\" onclick=\"generateWithVariable('data')\"\n",
              "            title=\"Generate code using this dataframe.\"\n",
              "            style=\"display:none;\">\n",
              "\n",
              "  <svg xmlns=\"http://www.w3.org/2000/svg\" height=\"24px\"viewBox=\"0 0 24 24\"\n",
              "       width=\"24px\">\n",
              "    <path d=\"M7,19H8.4L18.45,9,17,7.55,7,17.6ZM5,21V16.75L18.45,3.32a2,2,0,0,1,2.83,0l1.4,1.43a1.91,1.91,0,0,1,.58,1.4,1.91,1.91,0,0,1-.58,1.4L9.25,21ZM18.45,9,17,7.55Zm-12,3A5.31,5.31,0,0,0,4.9,8.1,5.31,5.31,0,0,0,1,6.5,5.31,5.31,0,0,0,4.9,4.9,5.31,5.31,0,0,0,6.5,1,5.31,5.31,0,0,0,8.1,4.9,5.31,5.31,0,0,0,12,6.5,5.46,5.46,0,0,0,6.5,12Z\"/>\n",
              "  </svg>\n",
              "    </button>\n",
              "    <script>\n",
              "      (() => {\n",
              "      const buttonEl =\n",
              "        document.querySelector('#id_f1d9d46f-cf7e-45ab-97ff-3f29d8f79aab button.colab-df-generate');\n",
              "      buttonEl.style.display =\n",
              "        google.colab.kernel.accessAllowed ? 'block' : 'none';\n",
              "\n",
              "      buttonEl.onclick = () => {\n",
              "        google.colab.notebook.generateWithVariable('data');\n",
              "      }\n",
              "      })();\n",
              "    </script>\n",
              "  </div>\n",
              "\n",
              "    </div>\n",
              "  </div>\n"
            ],
            "application/vnd.google.colaboratory.intrinsic+json": {
              "type": "dataframe",
              "variable_name": "data",
              "summary": "{\n  \"name\": \"data\",\n  \"rows\": 45000,\n  \"fields\": [\n    {\n      \"column\": \"Name\",\n      \"properties\": {\n        \"dtype\": \"string\",\n        \"num_unique_values\": 36651,\n        \"samples\": [\n          \"Heidi Flores\",\n          \"Steven Boyer\",\n          \"Angel Becker DVM\"\n        ],\n        \"semantic_type\": \"\",\n        \"description\": \"\"\n      }\n    },\n    {\n      \"column\": \"Address\",\n      \"properties\": {\n        \"dtype\": \"string\",\n        \"num_unique_values\": 45000,\n        \"samples\": [\n          \"5541 Kevin Green Suite 382, Markstad, IA 69076\",\n          \"4537 Lisa Meadow Apt. 705, Cherylburgh, DE 54432\",\n          \"Unit 2669 Box 3420, DPO AP 27984\"\n        ],\n        \"semantic_type\": \"\",\n        \"description\": \"\"\n      }\n    },\n    {\n      \"column\": \"Age\",\n      \"properties\": {\n        \"dtype\": \"number\",\n        \"std\": 12,\n        \"min\": 22,\n        \"max\": 64,\n        \"num_unique_values\": 43,\n        \"samples\": [\n          52,\n          58,\n          28\n        ],\n        \"semantic_type\": \"\",\n        \"description\": \"\"\n      }\n    },\n    {\n      \"column\": \"Phone No.\",\n      \"properties\": {\n        \"dtype\": \"string\",\n        \"num_unique_values\": 45000,\n        \"samples\": [\n          \"163-689-2923x646\",\n          \"151.760.5362\",\n          \"(677)258-5024x4898\"\n        ],\n        \"semantic_type\": \"\",\n        \"description\": \"\"\n      }\n    },\n    {\n      \"column\": \"Email\",\n      \"properties\": {\n        \"dtype\": \"string\",\n        \"num_unique_values\": 43972,\n        \"samples\": [\n          \"kwilkins@yahoo.com\",\n          \"aliciawalters@curtis-simmons.info\",\n          \"khenderson@yahoo.com\"\n        ],\n        \"semantic_type\": \"\",\n        \"description\": \"\"\n      }\n    },\n    {\n      \"column\": \"Marital Status\",\n      \"properties\": {\n        \"dtype\": \"category\",\n        \"num_unique_values\": 4,\n        \"samples\": [\n          \"Divorced\",\n          \"Widowed\",\n          \"Single\"\n        ],\n        \"semantic_type\": \"\",\n        \"description\": \"\"\n      }\n    },\n    {\n      \"column\": \"Educational Qualification\",\n      \"properties\": {\n        \"dtype\": \"category\",\n        \"num_unique_values\": 5,\n        \"samples\": [\n          \"High School\",\n          \"Diploma\",\n          \"Master\"\n        ],\n        \"semantic_type\": \"\",\n        \"description\": \"\"\n      }\n    },\n    {\n      \"column\": \"Gender\",\n      \"properties\": {\n        \"dtype\": \"category\",\n        \"num_unique_values\": 3,\n        \"samples\": [\n          \"Male\",\n          \"Other\",\n          \"Female\"\n        ],\n        \"semantic_type\": \"\",\n        \"description\": \"\"\n      }\n    },\n    {\n      \"column\": \"Relationship\",\n      \"properties\": {\n        \"dtype\": \"category\",\n        \"num_unique_values\": 6,\n        \"samples\": [\n          \"Own-child\",\n          \"Other-relative\",\n          \"Unmarried\"\n        ],\n        \"semantic_type\": \"\",\n        \"description\": \"\"\n      }\n    },\n    {\n      \"column\": \"Job Type\",\n      \"properties\": {\n        \"dtype\": \"category\",\n        \"num_unique_values\": 4,\n        \"samples\": [\n          \"Unemployed\",\n          \"Self-employed\",\n          \"Private\"\n        ],\n        \"semantic_type\": \"\",\n        \"description\": \"\"\n      }\n    },\n    {\n      \"column\": \"Job Title\",\n      \"properties\": {\n        \"dtype\": \"category\",\n        \"num_unique_values\": 7,\n        \"samples\": [\n          \"Software Engineer\",\n          \"Project Manager\",\n          \"Consultant\"\n        ],\n        \"semantic_type\": \"\",\n        \"description\": \"\"\n      }\n    },\n    {\n      \"column\": \"Job Location\",\n      \"properties\": {\n        \"dtype\": \"category\",\n        \"num_unique_values\": 7,\n        \"samples\": [\n          \"Austin\",\n          \"Los Angeles\",\n          \"Chicago\"\n        ],\n        \"semantic_type\": \"\",\n        \"description\": \"\"\n      }\n    },\n    {\n      \"column\": \"Rating\",\n      \"properties\": {\n        \"dtype\": \"number\",\n        \"std\": 1.1580822273861018,\n        \"min\": 1.0,\n        \"max\": 5.0,\n        \"num_unique_values\": 41,\n        \"samples\": [\n          1.5,\n          1.3,\n          3.1\n        ],\n        \"semantic_type\": \"\",\n        \"description\": \"\"\n      }\n    },\n    {\n      \"column\": \"Capital Gain\",\n      \"properties\": {\n        \"dtype\": \"number\",\n        \"std\": 14400,\n        \"min\": 1,\n        \"max\": 49996,\n        \"num_unique_values\": 29798,\n        \"samples\": [\n          16398,\n          37887,\n          12772\n        ],\n        \"semantic_type\": \"\",\n        \"description\": \"\"\n      }\n    },\n    {\n      \"column\": \"Capital Loss\",\n      \"properties\": {\n        \"dtype\": \"number\",\n        \"std\": 2884,\n        \"min\": 0,\n        \"max\": 9999,\n        \"num_unique_values\": 9897,\n        \"samples\": [\n          6306,\n          990,\n          5906\n        ],\n        \"semantic_type\": \"\",\n        \"description\": \"\"\n      }\n    },\n    {\n      \"column\": \"Working Hours (Weekly)\",\n      \"properties\": {\n        \"dtype\": \"number\",\n        \"std\": 11,\n        \"min\": 20,\n        \"max\": 59,\n        \"num_unique_values\": 40,\n        \"samples\": [\n          59,\n          45,\n          38\n        ],\n        \"semantic_type\": \"\",\n        \"description\": \"\"\n      }\n    },\n    {\n      \"column\": \"Work Experience (Year)\",\n      \"properties\": {\n        \"dtype\": \"number\",\n        \"std\": 11,\n        \"min\": 0,\n        \"max\": 39,\n        \"num_unique_values\": 40,\n        \"samples\": [\n          5,\n          25,\n          11\n        ],\n        \"semantic_type\": \"\",\n        \"description\": \"\"\n      }\n    },\n    {\n      \"column\": \"Income Estimation (Yearly)\",\n      \"properties\": {\n        \"dtype\": \"number\",\n        \"std\": 48988,\n        \"min\": 30000,\n        \"max\": 199999,\n        \"num_unique_values\": 39502,\n        \"samples\": [\n          57500,\n          157615,\n          89206\n        ],\n        \"semantic_type\": \"\",\n        \"description\": \"\"\n      }\n    }\n  ]\n}"
            }
          },
          "metadata": {},
          "execution_count": 3
        }
      ]
    },
    {
      "cell_type": "code",
      "source": [
        "# Checking The Dataset size\n",
        "data.shape"
      ],
      "metadata": {
        "colab": {
          "base_uri": "https://localhost:8080/"
        },
        "id": "N8eHmtfouJgC",
        "outputId": "d2269003-1237-4045-f591-1cafcca08ab2"
      },
      "execution_count": 4,
      "outputs": [
        {
          "output_type": "execute_result",
          "data": {
            "text/plain": [
              "(45000, 18)"
            ]
          },
          "metadata": {},
          "execution_count": 4
        }
      ]
    },
    {
      "cell_type": "code",
      "source": [
        "# Define salary bins\n",
        "# You can adjust these thresholds based on your data's salary distribution\n",
        "bins = [0, 50000, 100000, float('inf')]\n",
        "# 3 categories: Low, Medium, High\n",
        "labels = ['Low', 'Medium', 'High']\n",
        "\n",
        "# Create a new categorical column\n",
        "data['salary_category'] = pd.cut(data['Income Estimation (Yearly)'], bins=bins, labels=labels)\n",
        "\n",
        "# Check the results\n",
        "print(data[['Income Estimation (Yearly)', 'salary_category']].head())"
      ],
      "metadata": {
        "colab": {
          "base_uri": "https://localhost:8080/"
        },
        "id": "3_Du9p5cuMJz",
        "outputId": "fa4b605f-5a18-41a9-cca3-57bff81a9bf7"
      },
      "execution_count": 5,
      "outputs": [
        {
          "output_type": "stream",
          "name": "stdout",
          "text": [
            "   Income Estimation (Yearly) salary_category\n",
            "0                      153061            High\n",
            "1                       74968          Medium\n",
            "2                      100926            High\n",
            "3                       82796          Medium\n",
            "4                       77747          Medium\n"
          ]
        }
      ]
    },
    {
      "cell_type": "code",
      "source": [
        "# Checking The Dataset information\n",
        "data.info()"
      ],
      "metadata": {
        "colab": {
          "base_uri": "https://localhost:8080/"
        },
        "id": "94NYBiNBuPS8",
        "outputId": "30ad68b8-e342-4f91-ba02-f904e2d25d01"
      },
      "execution_count": 6,
      "outputs": [
        {
          "output_type": "stream",
          "name": "stdout",
          "text": [
            "<class 'pandas.core.frame.DataFrame'>\n",
            "RangeIndex: 45000 entries, 0 to 44999\n",
            "Data columns (total 19 columns):\n",
            " #   Column                      Non-Null Count  Dtype   \n",
            "---  ------                      --------------  -----   \n",
            " 0   Name                        45000 non-null  object  \n",
            " 1   Address                     45000 non-null  object  \n",
            " 2   Age                         45000 non-null  int64   \n",
            " 3   Phone No.                   45000 non-null  object  \n",
            " 4   Email                       45000 non-null  object  \n",
            " 5   Marital Status              45000 non-null  object  \n",
            " 6   Educational Qualification   45000 non-null  object  \n",
            " 7   Gender                      45000 non-null  object  \n",
            " 8   Relationship                45000 non-null  object  \n",
            " 9   Job Type                    45000 non-null  object  \n",
            " 10  Job Title                   45000 non-null  object  \n",
            " 11  Job Location                45000 non-null  object  \n",
            " 12  Rating                      45000 non-null  float64 \n",
            " 13  Capital Gain                45000 non-null  int64   \n",
            " 14  Capital Loss                45000 non-null  int64   \n",
            " 15  Working Hours (Weekly)      45000 non-null  int64   \n",
            " 16  Work Experience (Year)      45000 non-null  int64   \n",
            " 17  Income Estimation (Yearly)  45000 non-null  int64   \n",
            " 18  salary_category             45000 non-null  category\n",
            "dtypes: category(1), float64(1), int64(6), object(11)\n",
            "memory usage: 6.2+ MB\n"
          ]
        }
      ]
    },
    {
      "cell_type": "code",
      "source": [
        "# Checking The Dataset description\n",
        "data.describe()"
      ],
      "metadata": {
        "colab": {
          "base_uri": "https://localhost:8080/",
          "height": 300
        },
        "id": "8KvUDDq2uSlY",
        "outputId": "9db13095-a7ff-4f25-a23b-90e4e8f367ce"
      },
      "execution_count": 7,
      "outputs": [
        {
          "output_type": "execute_result",
          "data": {
            "text/plain": [
              "                Age        Rating  Capital Gain  Capital Loss  \\\n",
              "count  45000.000000  45000.000000  45000.000000  45000.000000   \n",
              "mean      42.967200      3.005560  24939.741156   4998.324667   \n",
              "std       12.347268      1.158082  14400.752486   2884.953142   \n",
              "min       22.000000      1.000000      1.000000      0.000000   \n",
              "25%       32.000000      2.000000  12461.750000   2512.750000   \n",
              "50%       43.000000      3.000000  24936.500000   4998.000000   \n",
              "75%       54.000000      4.000000  37397.500000   7484.000000   \n",
              "max       64.000000      5.000000  49996.000000   9999.000000   \n",
              "\n",
              "       Working Hours (Weekly)  Work Experience (Year)  \\\n",
              "count            45000.000000            45000.000000   \n",
              "mean                39.579689               19.475533   \n",
              "std                 11.570140               11.573807   \n",
              "min                 20.000000                0.000000   \n",
              "25%                 30.000000                9.000000   \n",
              "50%                 40.000000               20.000000   \n",
              "75%                 50.000000               30.000000   \n",
              "max                 59.000000               39.000000   \n",
              "\n",
              "       Income Estimation (Yearly)  \n",
              "count                45000.000000  \n",
              "mean                114883.791444  \n",
              "std                  48988.612862  \n",
              "min                  30000.000000  \n",
              "25%                  72286.500000  \n",
              "50%                 115144.000000  \n",
              "75%                 157304.250000  \n",
              "max                 199999.000000  "
            ],
            "text/html": [
              "\n",
              "  <div id=\"df-56192da9-d251-4d3e-bdef-a4e9321b7956\" class=\"colab-df-container\">\n",
              "    <div>\n",
              "<style scoped>\n",
              "    .dataframe tbody tr th:only-of-type {\n",
              "        vertical-align: middle;\n",
              "    }\n",
              "\n",
              "    .dataframe tbody tr th {\n",
              "        vertical-align: top;\n",
              "    }\n",
              "\n",
              "    .dataframe thead th {\n",
              "        text-align: right;\n",
              "    }\n",
              "</style>\n",
              "<table border=\"1\" class=\"dataframe\">\n",
              "  <thead>\n",
              "    <tr style=\"text-align: right;\">\n",
              "      <th></th>\n",
              "      <th>Age</th>\n",
              "      <th>Rating</th>\n",
              "      <th>Capital Gain</th>\n",
              "      <th>Capital Loss</th>\n",
              "      <th>Working Hours (Weekly)</th>\n",
              "      <th>Work Experience (Year)</th>\n",
              "      <th>Income Estimation (Yearly)</th>\n",
              "    </tr>\n",
              "  </thead>\n",
              "  <tbody>\n",
              "    <tr>\n",
              "      <th>count</th>\n",
              "      <td>45000.000000</td>\n",
              "      <td>45000.000000</td>\n",
              "      <td>45000.000000</td>\n",
              "      <td>45000.000000</td>\n",
              "      <td>45000.000000</td>\n",
              "      <td>45000.000000</td>\n",
              "      <td>45000.000000</td>\n",
              "    </tr>\n",
              "    <tr>\n",
              "      <th>mean</th>\n",
              "      <td>42.967200</td>\n",
              "      <td>3.005560</td>\n",
              "      <td>24939.741156</td>\n",
              "      <td>4998.324667</td>\n",
              "      <td>39.579689</td>\n",
              "      <td>19.475533</td>\n",
              "      <td>114883.791444</td>\n",
              "    </tr>\n",
              "    <tr>\n",
              "      <th>std</th>\n",
              "      <td>12.347268</td>\n",
              "      <td>1.158082</td>\n",
              "      <td>14400.752486</td>\n",
              "      <td>2884.953142</td>\n",
              "      <td>11.570140</td>\n",
              "      <td>11.573807</td>\n",
              "      <td>48988.612862</td>\n",
              "    </tr>\n",
              "    <tr>\n",
              "      <th>min</th>\n",
              "      <td>22.000000</td>\n",
              "      <td>1.000000</td>\n",
              "      <td>1.000000</td>\n",
              "      <td>0.000000</td>\n",
              "      <td>20.000000</td>\n",
              "      <td>0.000000</td>\n",
              "      <td>30000.000000</td>\n",
              "    </tr>\n",
              "    <tr>\n",
              "      <th>25%</th>\n",
              "      <td>32.000000</td>\n",
              "      <td>2.000000</td>\n",
              "      <td>12461.750000</td>\n",
              "      <td>2512.750000</td>\n",
              "      <td>30.000000</td>\n",
              "      <td>9.000000</td>\n",
              "      <td>72286.500000</td>\n",
              "    </tr>\n",
              "    <tr>\n",
              "      <th>50%</th>\n",
              "      <td>43.000000</td>\n",
              "      <td>3.000000</td>\n",
              "      <td>24936.500000</td>\n",
              "      <td>4998.000000</td>\n",
              "      <td>40.000000</td>\n",
              "      <td>20.000000</td>\n",
              "      <td>115144.000000</td>\n",
              "    </tr>\n",
              "    <tr>\n",
              "      <th>75%</th>\n",
              "      <td>54.000000</td>\n",
              "      <td>4.000000</td>\n",
              "      <td>37397.500000</td>\n",
              "      <td>7484.000000</td>\n",
              "      <td>50.000000</td>\n",
              "      <td>30.000000</td>\n",
              "      <td>157304.250000</td>\n",
              "    </tr>\n",
              "    <tr>\n",
              "      <th>max</th>\n",
              "      <td>64.000000</td>\n",
              "      <td>5.000000</td>\n",
              "      <td>49996.000000</td>\n",
              "      <td>9999.000000</td>\n",
              "      <td>59.000000</td>\n",
              "      <td>39.000000</td>\n",
              "      <td>199999.000000</td>\n",
              "    </tr>\n",
              "  </tbody>\n",
              "</table>\n",
              "</div>\n",
              "    <div class=\"colab-df-buttons\">\n",
              "\n",
              "  <div class=\"colab-df-container\">\n",
              "    <button class=\"colab-df-convert\" onclick=\"convertToInteractive('df-56192da9-d251-4d3e-bdef-a4e9321b7956')\"\n",
              "            title=\"Convert this dataframe to an interactive table.\"\n",
              "            style=\"display:none;\">\n",
              "\n",
              "  <svg xmlns=\"http://www.w3.org/2000/svg\" height=\"24px\" viewBox=\"0 -960 960 960\">\n",
              "    <path d=\"M120-120v-720h720v720H120Zm60-500h600v-160H180v160Zm220 220h160v-160H400v160Zm0 220h160v-160H400v160ZM180-400h160v-160H180v160Zm440 0h160v-160H620v160ZM180-180h160v-160H180v160Zm440 0h160v-160H620v160Z\"/>\n",
              "  </svg>\n",
              "    </button>\n",
              "\n",
              "  <style>\n",
              "    .colab-df-container {\n",
              "      display:flex;\n",
              "      gap: 12px;\n",
              "    }\n",
              "\n",
              "    .colab-df-convert {\n",
              "      background-color: #E8F0FE;\n",
              "      border: none;\n",
              "      border-radius: 50%;\n",
              "      cursor: pointer;\n",
              "      display: none;\n",
              "      fill: #1967D2;\n",
              "      height: 32px;\n",
              "      padding: 0 0 0 0;\n",
              "      width: 32px;\n",
              "    }\n",
              "\n",
              "    .colab-df-convert:hover {\n",
              "      background-color: #E2EBFA;\n",
              "      box-shadow: 0px 1px 2px rgba(60, 64, 67, 0.3), 0px 1px 3px 1px rgba(60, 64, 67, 0.15);\n",
              "      fill: #174EA6;\n",
              "    }\n",
              "\n",
              "    .colab-df-buttons div {\n",
              "      margin-bottom: 4px;\n",
              "    }\n",
              "\n",
              "    [theme=dark] .colab-df-convert {\n",
              "      background-color: #3B4455;\n",
              "      fill: #D2E3FC;\n",
              "    }\n",
              "\n",
              "    [theme=dark] .colab-df-convert:hover {\n",
              "      background-color: #434B5C;\n",
              "      box-shadow: 0px 1px 3px 1px rgba(0, 0, 0, 0.15);\n",
              "      filter: drop-shadow(0px 1px 2px rgba(0, 0, 0, 0.3));\n",
              "      fill: #FFFFFF;\n",
              "    }\n",
              "  </style>\n",
              "\n",
              "    <script>\n",
              "      const buttonEl =\n",
              "        document.querySelector('#df-56192da9-d251-4d3e-bdef-a4e9321b7956 button.colab-df-convert');\n",
              "      buttonEl.style.display =\n",
              "        google.colab.kernel.accessAllowed ? 'block' : 'none';\n",
              "\n",
              "      async function convertToInteractive(key) {\n",
              "        const element = document.querySelector('#df-56192da9-d251-4d3e-bdef-a4e9321b7956');\n",
              "        const dataTable =\n",
              "          await google.colab.kernel.invokeFunction('convertToInteractive',\n",
              "                                                    [key], {});\n",
              "        if (!dataTable) return;\n",
              "\n",
              "        const docLinkHtml = 'Like what you see? Visit the ' +\n",
              "          '<a target=\"_blank\" href=https://colab.research.google.com/notebooks/data_table.ipynb>data table notebook</a>'\n",
              "          + ' to learn more about interactive tables.';\n",
              "        element.innerHTML = '';\n",
              "        dataTable['output_type'] = 'display_data';\n",
              "        await google.colab.output.renderOutput(dataTable, element);\n",
              "        const docLink = document.createElement('div');\n",
              "        docLink.innerHTML = docLinkHtml;\n",
              "        element.appendChild(docLink);\n",
              "      }\n",
              "    </script>\n",
              "  </div>\n",
              "\n",
              "\n",
              "    <div id=\"df-dce25be6-8b7f-41b0-93b0-94cac010804e\">\n",
              "      <button class=\"colab-df-quickchart\" onclick=\"quickchart('df-dce25be6-8b7f-41b0-93b0-94cac010804e')\"\n",
              "                title=\"Suggest charts\"\n",
              "                style=\"display:none;\">\n",
              "\n",
              "<svg xmlns=\"http://www.w3.org/2000/svg\" height=\"24px\"viewBox=\"0 0 24 24\"\n",
              "     width=\"24px\">\n",
              "    <g>\n",
              "        <path d=\"M19 3H5c-1.1 0-2 .9-2 2v14c0 1.1.9 2 2 2h14c1.1 0 2-.9 2-2V5c0-1.1-.9-2-2-2zM9 17H7v-7h2v7zm4 0h-2V7h2v10zm4 0h-2v-4h2v4z\"/>\n",
              "    </g>\n",
              "</svg>\n",
              "      </button>\n",
              "\n",
              "<style>\n",
              "  .colab-df-quickchart {\n",
              "      --bg-color: #E8F0FE;\n",
              "      --fill-color: #1967D2;\n",
              "      --hover-bg-color: #E2EBFA;\n",
              "      --hover-fill-color: #174EA6;\n",
              "      --disabled-fill-color: #AAA;\n",
              "      --disabled-bg-color: #DDD;\n",
              "  }\n",
              "\n",
              "  [theme=dark] .colab-df-quickchart {\n",
              "      --bg-color: #3B4455;\n",
              "      --fill-color: #D2E3FC;\n",
              "      --hover-bg-color: #434B5C;\n",
              "      --hover-fill-color: #FFFFFF;\n",
              "      --disabled-bg-color: #3B4455;\n",
              "      --disabled-fill-color: #666;\n",
              "  }\n",
              "\n",
              "  .colab-df-quickchart {\n",
              "    background-color: var(--bg-color);\n",
              "    border: none;\n",
              "    border-radius: 50%;\n",
              "    cursor: pointer;\n",
              "    display: none;\n",
              "    fill: var(--fill-color);\n",
              "    height: 32px;\n",
              "    padding: 0;\n",
              "    width: 32px;\n",
              "  }\n",
              "\n",
              "  .colab-df-quickchart:hover {\n",
              "    background-color: var(--hover-bg-color);\n",
              "    box-shadow: 0 1px 2px rgba(60, 64, 67, 0.3), 0 1px 3px 1px rgba(60, 64, 67, 0.15);\n",
              "    fill: var(--button-hover-fill-color);\n",
              "  }\n",
              "\n",
              "  .colab-df-quickchart-complete:disabled,\n",
              "  .colab-df-quickchart-complete:disabled:hover {\n",
              "    background-color: var(--disabled-bg-color);\n",
              "    fill: var(--disabled-fill-color);\n",
              "    box-shadow: none;\n",
              "  }\n",
              "\n",
              "  .colab-df-spinner {\n",
              "    border: 2px solid var(--fill-color);\n",
              "    border-color: transparent;\n",
              "    border-bottom-color: var(--fill-color);\n",
              "    animation:\n",
              "      spin 1s steps(1) infinite;\n",
              "  }\n",
              "\n",
              "  @keyframes spin {\n",
              "    0% {\n",
              "      border-color: transparent;\n",
              "      border-bottom-color: var(--fill-color);\n",
              "      border-left-color: var(--fill-color);\n",
              "    }\n",
              "    20% {\n",
              "      border-color: transparent;\n",
              "      border-left-color: var(--fill-color);\n",
              "      border-top-color: var(--fill-color);\n",
              "    }\n",
              "    30% {\n",
              "      border-color: transparent;\n",
              "      border-left-color: var(--fill-color);\n",
              "      border-top-color: var(--fill-color);\n",
              "      border-right-color: var(--fill-color);\n",
              "    }\n",
              "    40% {\n",
              "      border-color: transparent;\n",
              "      border-right-color: var(--fill-color);\n",
              "      border-top-color: var(--fill-color);\n",
              "    }\n",
              "    60% {\n",
              "      border-color: transparent;\n",
              "      border-right-color: var(--fill-color);\n",
              "    }\n",
              "    80% {\n",
              "      border-color: transparent;\n",
              "      border-right-color: var(--fill-color);\n",
              "      border-bottom-color: var(--fill-color);\n",
              "    }\n",
              "    90% {\n",
              "      border-color: transparent;\n",
              "      border-bottom-color: var(--fill-color);\n",
              "    }\n",
              "  }\n",
              "</style>\n",
              "\n",
              "      <script>\n",
              "        async function quickchart(key) {\n",
              "          const quickchartButtonEl =\n",
              "            document.querySelector('#' + key + ' button');\n",
              "          quickchartButtonEl.disabled = true;  // To prevent multiple clicks.\n",
              "          quickchartButtonEl.classList.add('colab-df-spinner');\n",
              "          try {\n",
              "            const charts = await google.colab.kernel.invokeFunction(\n",
              "                'suggestCharts', [key], {});\n",
              "          } catch (error) {\n",
              "            console.error('Error during call to suggestCharts:', error);\n",
              "          }\n",
              "          quickchartButtonEl.classList.remove('colab-df-spinner');\n",
              "          quickchartButtonEl.classList.add('colab-df-quickchart-complete');\n",
              "        }\n",
              "        (() => {\n",
              "          let quickchartButtonEl =\n",
              "            document.querySelector('#df-dce25be6-8b7f-41b0-93b0-94cac010804e button');\n",
              "          quickchartButtonEl.style.display =\n",
              "            google.colab.kernel.accessAllowed ? 'block' : 'none';\n",
              "        })();\n",
              "      </script>\n",
              "    </div>\n",
              "\n",
              "    </div>\n",
              "  </div>\n"
            ],
            "application/vnd.google.colaboratory.intrinsic+json": {
              "type": "dataframe",
              "summary": "{\n  \"name\": \"data\",\n  \"rows\": 8,\n  \"fields\": [\n    {\n      \"column\": \"Age\",\n      \"properties\": {\n        \"dtype\": \"number\",\n        \"std\": 15896.258302475446,\n        \"min\": 12.347267841936462,\n        \"max\": 45000.0,\n        \"num_unique_values\": 8,\n        \"samples\": [\n          42.9672,\n          43.0,\n          45000.0\n        ],\n        \"semantic_type\": \"\",\n        \"description\": \"\"\n      }\n    },\n    {\n      \"column\": \"Rating\",\n      \"properties\": {\n        \"dtype\": \"number\",\n        \"std\": 15908.934724567465,\n        \"min\": 1.0,\n        \"max\": 45000.0,\n        \"num_unique_values\": 8,\n        \"samples\": [\n          3.0055600000000005,\n          3.0,\n          45000.0\n        ],\n        \"semantic_type\": \"\",\n        \"description\": \"\"\n      }\n    },\n    {\n      \"column\": \"Capital Gain\",\n      \"properties\": {\n        \"dtype\": \"number\",\n        \"std\": 17165.498744908968,\n        \"min\": 1.0,\n        \"max\": 49996.0,\n        \"num_unique_values\": 8,\n        \"samples\": [\n          24939.741155555555,\n          24936.5,\n          45000.0\n        ],\n        \"semantic_type\": \"\",\n        \"description\": \"\"\n      }\n    },\n    {\n      \"column\": \"Capital Loss\",\n      \"properties\": {\n        \"dtype\": \"number\",\n        \"std\": 14577.313318658458,\n        \"min\": 0.0,\n        \"max\": 45000.0,\n        \"num_unique_values\": 8,\n        \"samples\": [\n          4998.324666666666,\n          4998.0,\n          45000.0\n        ],\n        \"semantic_type\": \"\",\n        \"description\": \"\"\n      }\n    },\n    {\n      \"column\": \"Working Hours (Weekly)\",\n      \"properties\": {\n        \"dtype\": \"number\",\n        \"std\": 15897.275480766879,\n        \"min\": 11.570139828003702,\n        \"max\": 45000.0,\n        \"num_unique_values\": 8,\n        \"samples\": [\n          39.57968888888889,\n          40.0,\n          45000.0\n        ],\n        \"semantic_type\": \"\",\n        \"description\": \"\"\n      }\n    },\n    {\n      \"column\": \"Work Experience (Year)\",\n      \"properties\": {\n        \"dtype\": \"number\",\n        \"std\": 15903.389254486803,\n        \"min\": 0.0,\n        \"max\": 45000.0,\n        \"num_unique_values\": 8,\n        \"samples\": [\n          19.475533333333335,\n          20.0,\n          45000.0\n        ],\n        \"semantic_type\": \"\",\n        \"description\": \"\"\n      }\n    },\n    {\n      \"column\": \"Income Estimation (Yearly)\",\n      \"properties\": {\n        \"dtype\": \"number\",\n        \"std\": 59756.70910417336,\n        \"min\": 30000.0,\n        \"max\": 199999.0,\n        \"num_unique_values\": 8,\n        \"samples\": [\n          114883.79144444445,\n          115144.0,\n          45000.0\n        ],\n        \"semantic_type\": \"\",\n        \"description\": \"\"\n      }\n    }\n  ]\n}"
            }
          },
          "metadata": {},
          "execution_count": 7
        }
      ]
    },
    {
      "cell_type": "code",
      "source": [
        "# Checking The Dataset columns\n",
        "data.columns"
      ],
      "metadata": {
        "colab": {
          "base_uri": "https://localhost:8080/"
        },
        "id": "2pvi_wyGu34c",
        "outputId": "d0f5ea4d-30b7-46f0-dfe6-1af4c7a347f5"
      },
      "execution_count": 8,
      "outputs": [
        {
          "output_type": "execute_result",
          "data": {
            "text/plain": [
              "Index(['Name', 'Address', 'Age', 'Phone No.', 'Email', 'Marital Status',\n",
              "       'Educational Qualification', 'Gender', 'Relationship', 'Job Type',\n",
              "       'Job Title', 'Job Location', 'Rating', 'Capital Gain', 'Capital Loss',\n",
              "       'Working Hours (Weekly)', 'Work Experience (Year)',\n",
              "       'Income Estimation (Yearly)', 'salary_category'],\n",
              "      dtype='object')"
            ]
          },
          "metadata": {},
          "execution_count": 8
        }
      ]
    },
    {
      "cell_type": "code",
      "source": [
        "# Removing the unnecessary columns\n",
        "data = data.drop(['Name', 'Address', 'Phone No.', 'Email','Capital Gain','Capital Loss','Work Experience (Year)'], axis=1)"
      ],
      "metadata": {
        "id": "Okk2CON3u5vR"
      },
      "execution_count": 9,
      "outputs": []
    },
    {
      "cell_type": "code",
      "source": [
        "# Checking the value counts of Age column\n",
        "print(data['Age'].value_counts())"
      ],
      "metadata": {
        "colab": {
          "base_uri": "https://localhost:8080/"
        },
        "id": "5N7bH49Pu7-V",
        "outputId": "03275156-01e3-4fc8-9fa1-295418a0af71"
      },
      "execution_count": 10,
      "outputs": [
        {
          "output_type": "stream",
          "name": "stdout",
          "text": [
            "Age\n",
            "38    1131\n",
            "34    1125\n",
            "44    1119\n",
            "47    1105\n",
            "36    1097\n",
            "49    1094\n",
            "59    1078\n",
            "39    1074\n",
            "50    1073\n",
            "31    1062\n",
            "60    1060\n",
            "51    1059\n",
            "25    1057\n",
            "57    1056\n",
            "63    1056\n",
            "30    1055\n",
            "37    1054\n",
            "26    1053\n",
            "42    1049\n",
            "45    1048\n",
            "62    1047\n",
            "23    1046\n",
            "46    1040\n",
            "43    1037\n",
            "24    1037\n",
            "53    1036\n",
            "29    1035\n",
            "40    1034\n",
            "61    1033\n",
            "58    1033\n",
            "35    1026\n",
            "28    1023\n",
            "32    1022\n",
            "27    1021\n",
            "48    1021\n",
            "54    1017\n",
            "56    1009\n",
            "41    1008\n",
            "33    1006\n",
            "52    1006\n",
            "22    1000\n",
            "55     993\n",
            "64     965\n",
            "Name: count, dtype: int64\n"
          ]
        }
      ]
    },
    {
      "cell_type": "code",
      "source": [
        "# Checking the value counts of Marital Status column\n",
        "print(data['Marital Status'].value_counts())"
      ],
      "metadata": {
        "colab": {
          "base_uri": "https://localhost:8080/"
        },
        "id": "BRY7AMjuu---",
        "outputId": "8ed0c413-01bc-4d92-ec14-1d7453e1dd6a"
      },
      "execution_count": 11,
      "outputs": [
        {
          "output_type": "stream",
          "name": "stdout",
          "text": [
            "Marital Status\n",
            "Widowed     11483\n",
            "Single      11256\n",
            "Married     11131\n",
            "Divorced    11130\n",
            "Name: count, dtype: int64\n"
          ]
        }
      ]
    },
    {
      "cell_type": "code",
      "source": [
        "# Checking the value counts of Educational Qualification column\n",
        "print(data['Educational Qualification'].value_counts())"
      ],
      "metadata": {
        "colab": {
          "base_uri": "https://localhost:8080/"
        },
        "id": "rBdoxR1YvBrM",
        "outputId": "c9f61124-48b6-4b33-9710-f90fa90c06a6"
      },
      "execution_count": 12,
      "outputs": [
        {
          "output_type": "stream",
          "name": "stdout",
          "text": [
            "Educational Qualification\n",
            "Diploma        9067\n",
            "High School    9058\n",
            "Bachelor       9040\n",
            "PhD            8982\n",
            "Master         8853\n",
            "Name: count, dtype: int64\n"
          ]
        }
      ]
    },
    {
      "cell_type": "code",
      "source": [
        "# Checking the value counts of Gender column\n",
        "print(data['Gender'].value_counts())"
      ],
      "metadata": {
        "colab": {
          "base_uri": "https://localhost:8080/"
        },
        "id": "fHasr2XYvD79",
        "outputId": "93808e69-c290-479b-a46b-0c4b3910aceb"
      },
      "execution_count": 13,
      "outputs": [
        {
          "output_type": "stream",
          "name": "stdout",
          "text": [
            "Gender\n",
            "Male      15089\n",
            "Female    15039\n",
            "Other     14872\n",
            "Name: count, dtype: int64\n"
          ]
        }
      ]
    },
    {
      "cell_type": "code",
      "source": [
        "# Checking the value counts of Relationship column\n",
        "print(data['Relationship'].value_counts())"
      ],
      "metadata": {
        "colab": {
          "base_uri": "https://localhost:8080/"
        },
        "id": "2lh6snv7vWd9",
        "outputId": "1f29612c-9274-4f84-c6bf-36895c6e7e2d"
      },
      "execution_count": 14,
      "outputs": [
        {
          "output_type": "stream",
          "name": "stdout",
          "text": [
            "Relationship\n",
            "Husband           7605\n",
            "Other-relative    7571\n",
            "Own-child         7488\n",
            "Wife              7475\n",
            "Not-in-family     7454\n",
            "Unmarried         7407\n",
            "Name: count, dtype: int64\n"
          ]
        }
      ]
    },
    {
      "cell_type": "code",
      "source": [
        "# Checking the value counts of Job Type column\n",
        "print(data['Job Type'].value_counts())"
      ],
      "metadata": {
        "colab": {
          "base_uri": "https://localhost:8080/"
        },
        "id": "SLkJRY_7vYhR",
        "outputId": "2fe57735-30f2-4297-fecf-4bd9d4d11efa"
      },
      "execution_count": 15,
      "outputs": [
        {
          "output_type": "stream",
          "name": "stdout",
          "text": [
            "Job Type\n",
            "Self-employed    11350\n",
            "Private          11287\n",
            "Government       11220\n",
            "Unemployed       11143\n",
            "Name: count, dtype: int64\n"
          ]
        }
      ]
    },
    {
      "cell_type": "code",
      "source": [
        "# Checking the value counts of Job Title column\n",
        "print(data['Job Title'].value_counts())"
      ],
      "metadata": {
        "colab": {
          "base_uri": "https://localhost:8080/"
        },
        "id": "MyjFzkLXvata",
        "outputId": "b0107c02-568f-46b3-a6e8-cd684ac26b7d"
      },
      "execution_count": 16,
      "outputs": [
        {
          "output_type": "stream",
          "name": "stdout",
          "text": [
            "Job Title\n",
            "Project Manager      6501\n",
            "Consultant           6487\n",
            "Data Scientist       6467\n",
            "Software Engineer    6453\n",
            "Accountant           6452\n",
            "Sales Executive      6325\n",
            "HR Manager           6315\n",
            "Name: count, dtype: int64\n"
          ]
        }
      ]
    },
    {
      "cell_type": "code",
      "source": [
        "# Checking the value counts of Job Location column\n",
        "print(data['Job Location'].value_counts())"
      ],
      "metadata": {
        "colab": {
          "base_uri": "https://localhost:8080/"
        },
        "id": "zV1kCQyrvcuB",
        "outputId": "a34cc885-e94a-4d03-ebf3-5c23607e6088"
      },
      "execution_count": 17,
      "outputs": [
        {
          "output_type": "stream",
          "name": "stdout",
          "text": [
            "Job Location\n",
            "Boston           6553\n",
            "New York         6503\n",
            "Austin           6418\n",
            "Chicago          6415\n",
            "Seattle          6395\n",
            "San Francisco    6381\n",
            "Los Angeles      6335\n",
            "Name: count, dtype: int64\n"
          ]
        }
      ]
    },
    {
      "cell_type": "code",
      "source": [
        "# Checking the value counts of Rating column\n",
        "print(data['Rating'].value_counts())"
      ],
      "metadata": {
        "colab": {
          "base_uri": "https://localhost:8080/"
        },
        "id": "wuB7JHfIvgcI",
        "outputId": "111d01d5-edc2-4db5-fba3-45dc6b244497"
      },
      "execution_count": 18,
      "outputs": [
        {
          "output_type": "stream",
          "name": "stdout",
          "text": [
            "Rating\n",
            "3.0    1189\n",
            "3.2    1187\n",
            "4.9    1172\n",
            "4.3    1169\n",
            "4.8    1169\n",
            "2.9    1167\n",
            "1.3    1164\n",
            "2.4    1156\n",
            "4.1    1156\n",
            "1.5    1156\n",
            "4.4    1155\n",
            "2.0    1155\n",
            "4.2    1154\n",
            "2.7    1153\n",
            "4.7    1150\n",
            "1.7    1145\n",
            "2.2    1141\n",
            "3.8    1135\n",
            "2.3    1127\n",
            "1.8    1126\n",
            "2.1    1121\n",
            "4.6    1121\n",
            "2.6    1117\n",
            "3.6    1114\n",
            "4.0    1107\n",
            "2.8    1103\n",
            "2.5    1102\n",
            "1.2    1101\n",
            "3.9    1099\n",
            "1.4    1095\n",
            "1.6    1093\n",
            "3.3    1089\n",
            "1.1    1082\n",
            "3.5    1082\n",
            "3.4    1078\n",
            "4.5    1075\n",
            "3.1    1053\n",
            "3.7    1048\n",
            "1.9    1042\n",
            "1.0     582\n",
            "5.0     570\n",
            "Name: count, dtype: int64\n"
          ]
        }
      ]
    },
    {
      "cell_type": "code",
      "source": [
        "# Checking the value counts of Working Hours (Weekly) column\n",
        "print(data['Working Hours (Weekly)'].value_counts())"
      ],
      "metadata": {
        "colab": {
          "base_uri": "https://localhost:8080/"
        },
        "id": "fDLNo-MXvjb2",
        "outputId": "6b664696-d139-42d6-c489-f984d0b70821"
      },
      "execution_count": 19,
      "outputs": [
        {
          "output_type": "stream",
          "name": "stdout",
          "text": [
            "Working Hours (Weekly)\n",
            "21    1185\n",
            "56    1181\n",
            "55    1178\n",
            "57    1177\n",
            "58    1176\n",
            "53    1165\n",
            "47    1164\n",
            "35    1163\n",
            "38    1162\n",
            "31    1162\n",
            "33    1159\n",
            "45    1153\n",
            "37    1150\n",
            "24    1144\n",
            "41    1143\n",
            "51    1132\n",
            "30    1129\n",
            "48    1127\n",
            "49    1125\n",
            "29    1125\n",
            "40    1122\n",
            "36    1120\n",
            "26    1115\n",
            "54    1115\n",
            "28    1111\n",
            "34    1111\n",
            "44    1108\n",
            "52    1108\n",
            "20    1107\n",
            "32    1096\n",
            "59    1096\n",
            "27    1091\n",
            "22    1091\n",
            "46    1088\n",
            "39    1082\n",
            "25    1082\n",
            "23    1078\n",
            "50    1069\n",
            "42    1062\n",
            "43    1048\n",
            "Name: count, dtype: int64\n"
          ]
        }
      ]
    },
    {
      "cell_type": "code",
      "source": [
        "# Checking the value counts of Income Estimation (Yearly) column\n",
        "print(data['salary_category'].value_counts())"
      ],
      "metadata": {
        "colab": {
          "base_uri": "https://localhost:8080/"
        },
        "id": "LJYfSqy_vmV9",
        "outputId": "aed978fc-49f3-46b5-9b1e-49a08daf693a"
      },
      "execution_count": 20,
      "outputs": [
        {
          "output_type": "stream",
          "name": "stdout",
          "text": [
            "salary_category\n",
            "High      26449\n",
            "Medium    13279\n",
            "Low        5272\n",
            "Name: count, dtype: int64\n"
          ]
        }
      ]
    },
    {
      "cell_type": "code",
      "source": [
        "# Importing Matplotlib Library to plot the boxplot for all the numerical columns of the dataset to detect the outliers\n",
        "import matplotlib.pyplot as plt"
      ],
      "metadata": {
        "id": "xY50lBaWvpyv"
      },
      "execution_count": 21,
      "outputs": []
    },
    {
      "cell_type": "code",
      "source": [
        "# Checking the Outlier for Age column\n",
        "plt.boxplot(data['Age'])\n",
        "plt.show()"
      ],
      "metadata": {
        "colab": {
          "base_uri": "https://localhost:8080/",
          "height": 430
        },
        "id": "3xn1fjd1vyBV",
        "outputId": "6e45e555-708e-40c1-c0e0-7d776c85a5b8"
      },
      "execution_count": 22,
      "outputs": [
        {
          "output_type": "display_data",
          "data": {
            "text/plain": [
              "<Figure size 640x480 with 1 Axes>"
            ],
            "image/png": "[encoded data removed]"
          },
          "metadata": {}
        }
      ]
    },
    {
      "cell_type": "code",
      "source": [
        "# Checking the Outlier for Working Hours (Weekly) column\n",
        "plt.boxplot(data['Working Hours (Weekly)'])\n",
        "plt.show()"
      ],
      "metadata": {
        "colab": {
          "base_uri": "https://localhost:8080/",
          "height": 430
        },
        "id": "eBjl2C02v0lV",
        "outputId": "6105046e-4842-4a6d-df7b-9ec6c6d2444c"
      },
      "execution_count": 23,
      "outputs": [
        {
          "output_type": "display_data",
          "data": {
            "text/plain": [
              "<Figure size 640x480 with 1 Axes>"
            ],
            "image/png": "[encoded data removed]"
          },
          "metadata": {}
        }
      ]
    },
    {
      "cell_type": "code",
      "source": [
        "data.shape"
      ],
      "metadata": {
        "colab": {
          "base_uri": "https://localhost:8080/"
        },
        "id": "EszGsagQv3ZV",
        "outputId": "ae1748a6-e0a4-4277-cad3-a9fa81d5d361"
      },
      "execution_count": 24,
      "outputs": [
        {
          "output_type": "execute_result",
          "data": {
            "text/plain": [
              "(45000, 12)"
            ]
          },
          "metadata": {},
          "execution_count": 24
        }
      ]
    },
    {
      "cell_type": "code",
      "source": [
        "# Level Encoding for the Categorical columns\n",
        "from sklearn.preprocessing import LabelEncoder\n",
        "le = LabelEncoder()\n",
        "data['Marital Status'] = le.fit_transform(data['Marital Status'])\n",
        "data['Educational Qualification'] = le.fit_transform(data['Educational Qualification'])\n",
        "data['Gender'] = le.fit_transform(data['Gender'])\n",
        "data['Relationship'] = le.fit_transform(data['Relationship'])\n",
        "data['Job Type'] = le.fit_transform(data['Job Type'])\n",
        "data['Job Title'] = le.fit_transform(data['Job Title'])\n",
        "data['Job Location'] = le.fit_transform(data['Job Location'])"
      ],
      "metadata": {
        "id": "_Y2h791cv5_T"
      },
      "execution_count": 25,
      "outputs": []
    },
    {
      "cell_type": "code",
      "source": [
        "# Separating the dependent and independent variables\n",
        "x = data.iloc[:, :-1].values\n",
        "y = data.iloc[:, -1].values"
      ],
      "metadata": {
        "id": "ARFq6hfswBTm"
      },
      "execution_count": 26,
      "outputs": []
    },
    {
      "cell_type": "code",
      "source": [
        "# Checking the shape of X and y\n",
        "print(x.shape)\n",
        "print(y.shape)"
      ],
      "metadata": {
        "colab": {
          "base_uri": "https://localhost:8080/"
        },
        "id": "ppmX0eJIwDT1",
        "outputId": "b75881af-3c59-46b4-9527-320002682a34"
      },
      "execution_count": 27,
      "outputs": [
        {
          "output_type": "stream",
          "name": "stdout",
          "text": [
            "(45000, 11)\n",
            "(45000,)\n"
          ]
        }
      ]
    },
    {
      "cell_type": "code",
      "source": [
        "# Viewing the seperated dataset X\n",
        "x"
      ],
      "metadata": {
        "colab": {
          "base_uri": "https://localhost:8080/"
        },
        "id": "FBzQ_TvWwGGL",
        "outputId": "73141b1c-c740-40da-ff70-3edd7bb7e31e"
      },
      "execution_count": 28,
      "outputs": [
        {
          "output_type": "execute_result",
          "data": {
            "text/plain": [
              "array([[6.00000e+01, 2.00000e+00, 0.00000e+00, ..., 2.40000e+00,\n",
              "        3.60000e+01, 1.53061e+05],\n",
              "       [5.00000e+01, 2.00000e+00, 2.00000e+00, ..., 2.80000e+00,\n",
              "        4.10000e+01, 7.49680e+04],\n",
              "       [3.60000e+01, 0.00000e+00, 3.00000e+00, ..., 2.20000e+00,\n",
              "        5.30000e+01, 1.00926e+05],\n",
              "       ...,\n",
              "       [4.90000e+01, 3.00000e+00, 4.00000e+00, ..., 2.10000e+00,\n",
              "        4.20000e+01, 1.41131e+05],\n",
              "       [3.00000e+01, 1.00000e+00, 1.00000e+00, ..., 3.40000e+00,\n",
              "        4.30000e+01, 1.96295e+05],\n",
              "       [3.20000e+01, 1.00000e+00, 2.00000e+00, ..., 2.90000e+00,\n",
              "        2.10000e+01, 5.72250e+04]])"
            ]
          },
          "metadata": {},
          "execution_count": 28
        }
      ]
    },
    {
      "cell_type": "code",
      "source": [
        "# Viewing the seperated dataset y\n",
        "y"
      ],
      "metadata": {
        "colab": {
          "base_uri": "https://localhost:8080/"
        },
        "id": "ct8Z4e-xwIbe",
        "outputId": "76e539d7-36b9-4f7c-b97b-678e323075ae"
      },
      "execution_count": 29,
      "outputs": [
        {
          "output_type": "execute_result",
          "data": {
            "text/plain": [
              "['High', 'Medium', 'High', 'Medium', 'Medium', ..., 'High', 'Medium', 'High', 'High', 'Medium']\n",
              "Length: 45000\n",
              "Categories (3, object): ['Low' < 'Medium' < 'High']"
            ]
          },
          "metadata": {},
          "execution_count": 29
        }
      ]
    },
    {
      "cell_type": "code",
      "source": [
        "# Checking all the Machine Learning Algorithms to create Model\n",
        "from sklearn.pipeline import Pipeline\n",
        "from sklearn.impute import SimpleImputer # Import SimpleImputer\n",
        "\n",
        "from sklearn.model_selection import train_test_split\n",
        "from sklearn.metrics import accuracy_score, classification_report\n",
        "\n",
        "from sklearn.preprocessing import StandardScaler, OneHotEncoder\n",
        "\n",
        "from sklearn.linear_model import LogisticRegression\n",
        "from sklearn.svm import SVC\n",
        "from sklearn.tree import DecisionTreeClassifier\n",
        "from sklearn.ensemble import RandomForestClassifier, GradientBoostingClassifier\n",
        "from sklearn.neighbors import KNeighborsClassifier\n",
        "from sklearn.naive_bayes import GaussianNB\n",
        "\n",
        "x_train, x_test, y_train, y_test = train_test_split(x, y, test_size = 0.2, random_state = 42)\n",
        "\n",
        "models = {\n",
        "    'Logistic Regression': LogisticRegression(),\n",
        "    'Support Vector Machine': SVC(),\n",
        "    'Decision Tree': DecisionTreeClassifier(),\n",
        "    'Random Forest': RandomForestClassifier(),\n",
        "    'Gradient Boosting': GradientBoostingClassifier(),\n",
        "    'K-Nearest Neighbors': KNeighborsClassifier(),\n",
        "    'Gaussian Naive Bayes': GaussianNB()\n",
        "}\n",
        "results = []\n",
        "\n",
        "for name, model in models.items():\n",
        "    # Add SimpleImputer to the pipeline\n",
        "    pipe = Pipeline(steps=[('imputer', SimpleImputer(strategy='mean')), ('scaler', StandardScaler()), ('model', model)])\n",
        "    pipe.fit(x_train, y_train)\n",
        "    y_pred = pipe.predict(x_test)\n",
        "    acc = accuracy_score(y_test, y_pred)\n",
        "    results.append((name, acc))\n",
        "\n",
        "for name, acc in results:\n",
        "    print(f\"{name}: {acc:.4f}\")"
      ],
      "metadata": {
        "colab": {
          "base_uri": "https://localhost:8080/"
        },
        "id": "-ByX0Wi1wMge",
        "outputId": "6ceb32ca-6528-4241-f24d-b1be34dca1ef"
      },
      "execution_count": 30,
      "outputs": [
        {
          "output_type": "stream",
          "name": "stdout",
          "text": [
            "Logistic Regression: 0.9984\n",
            "Support Vector Machine: 0.9850\n",
            "Decision Tree: 1.0000\n",
            "Random Forest: 1.0000\n",
            "Gradient Boosting: 1.0000\n",
            "K-Nearest Neighbors: 0.8292\n",
            "Gaussian Naive Bayes: 0.9976\n"
          ]
        }
      ]
    },
    {
      "cell_type": "code",
      "source": [
        "# Comparing the accuracy of the Machine Learning Algorithms with bar graph\n",
        "import matplotlib.pyplot as plt\n",
        "import numpy as np\n",
        "\n",
        "names = [name for name, _ in results]\n",
        "accuracies = [acc for _, acc in results]\n",
        "\n",
        "plt.bar(names, accuracies)\n",
        "plt.xlabel('Machine Learning Algorithms')\n",
        "plt.ylabel('Accuracy')\n",
        "plt.title('Comparison of Machine Learning Algorithms')\n",
        "plt.xticks(rotation=45)\n",
        "plt.grid(True)\n",
        "plt.show()"
      ],
      "metadata": {
        "colab": {
          "base_uri": "https://localhost:8080/",
          "height": 585
        },
        "id": "aHRc9u9SwOq1",
        "outputId": "4338993b-0176-4c83-bbea-4f49876ae371"
      },
      "execution_count": 31,
      "outputs": [
        {
          "output_type": "display_data",
          "data": {
            "text/plain": [
              "<Figure size 640x480 with 1 Axes>"
            ],
            "image/png": "[encoded data removed]"
          },
          "metadata": {}
        }
      ]
    },
    {
      "cell_type": "code",
      "source": [
        "# Finding the best Model for the dataset and save it in a variable named best_model\n",
        "\n",
        "from sklearn.model_selection import train_test_split\n",
        "from sklearn.metrics import accuracy_score\n",
        "\n",
        "from sklearn.linear_model import LogisticRegression\n",
        "from sklearn.svm import SVC\n",
        "from sklearn.tree import DecisionTreeClassifier\n",
        "from sklearn.ensemble import RandomForestClassifier, GradientBoostingClassifier\n",
        "from sklearn.neighbors import KNeighborsClassifier\n",
        "from sklearn.naive_bayes import GaussianNB\n",
        "\n",
        "import joblib\n",
        "\n",
        "# Train-test split\n",
        "x_train, x_test, y_train, y_test = train_test_split(x, y, test_size=0.2, random_state=42)\n",
        "\n",
        "# Define models\n",
        "models = {\n",
        "    'Logistic Regression': LogisticRegression(),\n",
        "    'Support Vector Machine': SVC(),\n",
        "    'Decision Tree': DecisionTreeClassifier(),\n",
        "    'Random Forest': RandomForestClassifier(),\n",
        "    'Gradient Boosting': GradientBoostingClassifier(),\n",
        "    'K-Nearest Neighbors': KNeighborsClassifier(),\n",
        "    'Gaussian Naive Bayes': GaussianNB()\n",
        "}\n",
        "\n",
        "# Train models\n",
        "results = {}\n",
        "for name, model in models.items():\n",
        "    model.fit(x_train, y_train)\n",
        "    pred = model.predict(x_test)\n",
        "    acc = accuracy_score(y_test, y_pred)\n",
        "    results[name] = acc\n",
        "    print(f\"{name}: {acc:.4f}\")\n",
        "\n",
        "# Find best model\n",
        "best_model_name = max(results, key=results.get)\n",
        "best_model = models[best_model_name]\n",
        "print(f\"\\nBest Model is: {best_model} with the accuracy of {results[best_model_name]:.4f}\")\n",
        "\n",
        "# Save best model\n",
        "joblib.dump(best_model, 'best_model.pkl')\n",
        "print(\"✅ Successfully saved the best model as best_model.pkl\")\n"
      ],
      "metadata": {
        "colab": {
          "base_uri": "https://localhost:8080/"
        },
        "id": "CGKDKpt8wv-S",
        "outputId": "b008456d-c008-48fe-d965-06a7437fc3f4"
      },
      "execution_count": 32,
      "outputs": [
        {
          "output_type": "stream",
          "name": "stderr",
          "text": [
            "/usr/local/lib/python3.11/dist-packages/sklearn/linear_model/_logistic.py:465: ConvergenceWarning: lbfgs failed to converge (status=1):\n",
            "STOP: TOTAL NO. OF ITERATIONS REACHED LIMIT.\n",
            "\n",
            "Increase the number of iterations (max_iter) or scale the data as shown in:\n",
            "    https://scikit-learn.org/stable/modules/preprocessing.html\n",
            "Please also refer to the documentation for alternative solver options:\n",
            "    https://scikit-learn.org/stable/modules/linear_model.html#logistic-regression\n",
            "  n_iter_i = _check_optimize_result(\n"
          ]
        },
        {
          "output_type": "stream",
          "name": "stdout",
          "text": [
            "Logistic Regression: 0.9976\n",
            "Support Vector Machine: 0.9976\n",
            "Decision Tree: 0.9976\n",
            "Random Forest: 0.9976\n",
            "Gradient Boosting: 0.9976\n",
            "K-Nearest Neighbors: 0.9976\n",
            "Gaussian Naive Bayes: 0.9976\n",
            "\n",
            "Best Model is: LogisticRegression() with the accuracy of 0.9976\n",
            "✅ Successfully saved the best model as best_model.pkl\n"
          ]
        }
      ]
    },
    {
      "cell_type": "code",
      "source": [
        "!pip install streamlit"
      ],
      "metadata": {
        "colab": {
          "base_uri": "https://localhost:8080/"
        },
        "id": "WtOSmIENww9M",
        "outputId": "b424b65f-b114-4195-b859-2c8a7d73be69"
      },
      "execution_count": 33,
      "outputs": [
        {
          "output_type": "stream",
          "name": "stdout",
          "text": [
            "Collecting streamlit\n",
            "  Downloading streamlit-1.47.1-py3-none-any.whl.metadata (9.0 kB)\n",
            "Requirement already satisfied: altair<6,>=4.0 in /usr/local/lib/python3.11/dist-packages (from streamlit) (5.5.0)\n",
            "Requirement already satisfied: blinker<2,>=1.5.0 in /usr/local/lib/python3.11/dist-packages (from streamlit) (1.9.0)\n",
            "Requirement already satisfied: cachetools<7,>=4.0 in /usr/local/lib/python3.11/dist-packages (from streamlit) (5.5.2)\n",
            "Requirement already satisfied: click<9,>=7.0 in /usr/local/lib/python3.11/dist-packages (from streamlit) (8.2.1)\n",
            "Requirement already satisfied: numpy<3,>=1.23 in /usr/local/lib/python3.11/dist-packages (from streamlit) (2.0.2)\n",
            "Requirement already satisfied: packaging<26,>=20 in /usr/local/lib/python3.11/dist-packages (from streamlit) (25.0)\n",
            "Requirement already satisfied: pandas<3,>=1.4.0 in /usr/local/lib/python3.11/dist-packages (from streamlit) (2.2.2)\n",
            "Requirement already satisfied: pillow<12,>=7.1.0 in /usr/local/lib/python3.11/dist-packages (from streamlit) (11.3.0)\n",
            "Requirement already satisfied: protobuf<7,>=3.20 in /usr/local/lib/python3.11/dist-packages (from streamlit) (5.29.5)\n",
            "Requirement already satisfied: pyarrow>=7.0 in /usr/local/lib/python3.11/dist-packages (from streamlit) (18.1.0)\n",
            "Requirement already satisfied: requests<3,>=2.27 in /usr/local/lib/python3.11/dist-packages (from streamlit) (2.32.3)\n",
            "Requirement already satisfied: tenacity<10,>=8.1.0 in /usr/local/lib/python3.11/dist-packages (from streamlit) (8.5.0)\n",
            "Requirement already satisfied: toml<2,>=0.10.1 in /usr/local/lib/python3.11/dist-packages (from streamlit) (0.10.2)\n",
            "Requirement already satisfied: typing-extensions<5,>=4.4.0 in /usr/local/lib/python3.11/dist-packages (from streamlit) (4.14.1)\n",
            "Collecting watchdog<7,>=2.1.5 (from streamlit)\n",
            "  Downloading watchdog-6.0.0-py3-none-manylinux2014_x86_64.whl.metadata (44 kB)\n",
            "\u001b[2K     \u001b[90m━━━━━━━━━━━━━━━━━━━━━━━━━━━━━━━━━━━━━━━\u001b[0m \u001b[32m44.3/44.3 kB\u001b[0m \u001b[31m363.2 kB/s\u001b[0m eta \u001b[36m0:00:00\u001b[0m\n",
            "\u001b[?25hRequirement already satisfied: gitpython!=3.1.19,<4,>=3.0.7 in /usr/local/lib/python3.11/dist-packages (from streamlit) (3.1.45)\n",
            "Collecting pydeck<1,>=0.8.0b4 (from streamlit)\n",
            "  Downloading pydeck-0.9.1-py2.py3-none-any.whl.metadata (4.1 kB)\n",
            "Requirement already satisfied: tornado!=6.5.0,<7,>=6.0.3 in /usr/local/lib/python3.11/dist-packages (from streamlit) (6.4.2)\n",
            "Requirement already satisfied: jinja2 in /usr/local/lib/python3.11/dist-packages (from altair<6,>=4.0->streamlit) (3.1.6)\n",
            "Requirement already satisfied: jsonschema>=3.0 in /usr/local/lib/python3.11/dist-packages (from altair<6,>=4.0->streamlit) (4.25.0)\n",
            "Requirement already satisfied: narwhals>=1.14.2 in /usr/local/lib/python3.11/dist-packages (from altair<6,>=4.0->streamlit) (1.48.1)\n",
            "Requirement already satisfied: gitdb<5,>=4.0.1 in /usr/local/lib/python3.11/dist-packages (from gitpython!=3.1.19,<4,>=3.0.7->streamlit) (4.0.12)\n",
            "Requirement already satisfied: python-dateutil>=2.8.2 in /usr/local/lib/python3.11/dist-packages (from pandas<3,>=1.4.0->streamlit) (2.9.0.post0)\n",
            "Requirement already satisfied: pytz>=2020.1 in /usr/local/lib/python3.11/dist-packages (from pandas<3,>=1.4.0->streamlit) (2025.2)\n",
            "Requirement already satisfied: tzdata>=2022.7 in /usr/local/lib/python3.11/dist-packages (from pandas<3,>=1.4.0->streamlit) (2025.2)\n",
            "Requirement already satisfied: charset-normalizer<4,>=2 in /usr/local/lib/python3.11/dist-packages (from requests<3,>=2.27->streamlit) (3.4.2)\n",
            "Requirement already satisfied: idna<4,>=2.5 in /usr/local/lib/python3.11/dist-packages (from requests<3,>=2.27->streamlit) (3.10)\n",
            "Requirement already satisfied: urllib3<3,>=1.21.1 in /usr/local/lib/python3.11/dist-packages (from requests<3,>=2.27->streamlit) (2.5.0)\n",
            "Requirement already satisfied: certifi>=2017.4.17 in /usr/local/lib/python3.11/dist-packages (from requests<3,>=2.27->streamlit) (2025.7.14)\n",
            "Requirement already satisfied: smmap<6,>=3.0.1 in /usr/local/lib/python3.11/dist-packages (from gitdb<5,>=4.0.1->gitpython!=3.1.19,<4,>=3.0.7->streamlit) (5.0.2)\n",
            "Requirement already satisfied: MarkupSafe>=2.0 in /usr/local/lib/python3.11/dist-packages (from jinja2->altair<6,>=4.0->streamlit) (3.0.2)\n",
            "Requirement already satisfied: attrs>=22.2.0 in /usr/local/lib/python3.11/dist-packages (from jsonschema>=3.0->altair<6,>=4.0->streamlit) (25.3.0)\n",
            "Requirement already satisfied: jsonschema-specifications>=2023.03.6 in /usr/local/lib/python3.11/dist-packages (from jsonschema>=3.0->altair<6,>=4.0->streamlit) (2025.4.1)\n",
            "Requirement already satisfied: referencing>=0.28.4 in /usr/local/lib/python3.11/dist-packages (from jsonschema>=3.0->altair<6,>=4.0->streamlit) (0.36.2)\n",
            "Requirement already satisfied: rpds-py>=0.7.1 in /usr/local/lib/python3.11/dist-packages (from jsonschema>=3.0->altair<6,>=4.0->streamlit) (0.26.0)\n",
            "Requirement already satisfied: six>=1.5 in /usr/local/lib/python3.11/dist-packages (from python-dateutil>=2.8.2->pandas<3,>=1.4.0->streamlit) (1.17.0)\n",
            "Downloading streamlit-1.47.1-py3-none-any.whl (9.9 MB)\n",
            "\u001b[2K   \u001b[90m━━━━━━━━━━━━━━━━━━━━━━━━━━━━━━━━━━━━━━━━\u001b[0m \u001b[32m9.9/9.9 MB\u001b[0m \u001b[31m15.7 MB/s\u001b[0m eta \u001b[36m0:00:00\u001b[0m\n",
            "\u001b[?25hDownloading pydeck-0.9.1-py2.py3-none-any.whl (6.9 MB)\n",
            "\u001b[2K   \u001b[90m━━━━━━━━━━━━━━━━━━━━━━━━━━━━━━━━━━━━━━━━\u001b[0m \u001b[32m6.9/6.9 MB\u001b[0m \u001b[31m36.0 MB/s\u001b[0m eta \u001b[36m0:00:00\u001b[0m\n",
            "\u001b[?25hDownloading watchdog-6.0.0-py3-none-manylinux2014_x86_64.whl (79 kB)\n",
            "\u001b[2K   \u001b[90m━━━━━━━━━━━━━━━━━━━━━━━━━━━━━━━━━━━━━━━━\u001b[0m \u001b[32m79.1/79.1 kB\u001b[0m \u001b[31m5.7 MB/s\u001b[0m eta \u001b[36m0:00:00\u001b[0m\n",
            "\u001b[?25hInstalling collected packages: watchdog, pydeck, streamlit\n",
            "Successfully installed pydeck-0.9.1 streamlit-1.47.1 watchdog-6.0.0\n"
          ]
        }
      ]
    },
    {
      "cell_type": "code",
      "source": [
        "%%writefile app.py\n",
        "import streamlit as sd\n",
        "import pandas as pd\n",
        "import joblib\n",
        "\n",
        "# Load the best model\n",
        "best_model = joblib.load('best_model.pkl')\n",
        "\n",
        "# Streamlit app\n",
        "sd.title(\"Employee Salary Prediction App\")\n",
        "\n",
        "# Side bar for user input\n",
        "sd.sidebar.header(\"User Input\")\n",
        "sd.markdown(\"Enter the details of the employee to predict their salary scale.\")\n",
        "\n",
        "# Input features\n",
        "age = sd.number_input(\"Age\", min_value=18, max_value=65, value=30)\n",
        "gender = sd.selectbox(\"Gender\", [\"Male\", \"Female\", \"Other\"])\n",
        "education_qualification = sd.selectbox(\"Education Qualification\", [\"High School\", \"Diploma\", \"Bachelor\", \"Master\", \"PhD\"])\n",
        "relationship = sd.selectbox(\"Relationship\", [\"Husband\", \"Other-relative\", \"Own-child\",\"Wife\",\"Not-in-family\",\"Unmarried\"])\n",
        "marital_status = sd.selectbox(\"Marital Status\", [\"Widowed\", \"Single\", \"Married\",\"Divorced\"])\n",
        "job_type = sd.selectbox(\"Job Type\", [\"Private\", \"Self-employed\", \"Government\",\"Unemployed\"])\n",
        "job_title = sd.selectbox(\"Job Title\", [\"Project Manager\",\"Consultant\",\"Data Scientist\",\"Software Engineer\",\"Accountant\",\"Sales Executive\",\"HR Manager\"])\n",
        "Working_Hours = sd.sidebar.number_input(\"Working_Hours(Weekly)\", min_value=0, max_value=168, value=40)\n",
        "job_location = sd.selectbox(\"Job Location\", [\"Boston\", \"New York\", \"Austin\", \"Seattle\", \"Chicago\", \"San Francisco\", \"Los Angeles\"])\n",
        "ratting = sd.number_input(\"Rating\", min_value=1, max_value=5, value=3)\n",
        "Income_Estimation = sd.number_input(\"Income_Estimation(Yearly)\", min_value=0, max_value=1000000, value=50000)\n",
        "\n",
        "# Clean and map the input\n",
        "input_data = pd.DataFrame({\n",
        "    'Age': [age],\n",
        "    'Gender': [gender.strip()],\n",
        "    'Education Qualification': [education_qualification.strip()],\n",
        "    'Working Hours (Weekly)': [Working_Hours],\n",
        "    'Job Title': [job_title.strip()],\n",
        "    'Job Type': [job_type.strip()],\n",
        "    'Relationship': [relationship.strip()],\n",
        "    'Marital Status': [marital_status.strip()],\n",
        "    'Job Location': [job_location.strip()],\n",
        "    'Rating': [ratting],\n",
        "    'Income Estimation (Yearly)': [Income_Estimation]\n",
        "})\n",
        "\n",
        "sd.subheader(\"🔎 User Input Data\")\n",
        "sd.write(input_data)\n",
        "\n",
        "# Prediction Button\n",
        "if sd.button(\"Predict Salary\"):\n",
        "    # Mapping dictionaries\n",
        "\n",
        "    input_data['Gender'] = input_data['Gender'].map({\"Male\": 0, \"Female\": 1, \"Other\": 2})\n",
        "    input_data['Relationship'] = input_data['Relationship'].map({\n",
        "        \"Husband\": 0, \"Other-relative\": 1, \"Own-child\": 2, \"Wife\": 3, \"Not-in-family\": 4, \"Unmarried\": 5})\n",
        "    input_data['Marital Status'] = input_data['Marital Status'].map({\n",
        "        \"Widowed\": 0, \"Single\": 1, \"Married\": 2, \"Divorced\": 3})\n",
        "    input_data['Job Type'] = input_data['Job Type'].map({\n",
        "        \"Private\": 0, \"Self-employed\": 1, \"Government\": 2, \"Unemployed\": 3})\n",
        "    input_data['Education Qualification'] = input_data['Education Qualification'].map({\n",
        "        \"High School\": 0, \"Diploma\": 1, \"Bachelor\": 2, \"Master\": 3, \"PhD\": 4})\n",
        "\n",
        "    input_data['Job Title'] = input_data['Job Title'].map({\n",
        "        \"Project Manager\": 0, \"Consultant\": 1, \"Data Scientist\": 2, \"Software Engineer\": 3,\n",
        "        \"Accountant\": 4, \"Sales Executive\": 5, \"HR Manager\": 6})\n",
        "\n",
        "    # input_data['Working_Hours(Weekly)'] = input_data['Working_Hours(Weekly)'].map({\"Private\": 0, \"Self-Employed\": 1, \"Government\": 2})\n",
        "    input_data['Job Location'] = input_data['Job Location'].map({    \"Boston\": 0, \"New York\": 1, \"Austin\": 2, \"Seattle\": 3,\n",
        "                                                                     \"Chicago\": 4, \"San Francisco\": 5, \"Los Angeles\": 6})\n",
        "\n",
        "\n",
        "\n",
        "\n",
        "\n",
        "\n",
        "\n",
        "    #  Make predictions\n",
        "    predictions = best_model.predict(input_data)\n",
        "\n",
        "    # Display the prediction result\n",
        "    sd.subheader(\"Predicted Total Salary\")\n",
        "    sd.write(predictions[0])"
      ],
      "metadata": {
        "colab": {
          "base_uri": "https://localhost:8080/"
        },
        "id": "YGLo9Rhzw_b6",
        "outputId": "7274656c-5554-4263-8804-adfc912a620f"
      },
      "execution_count": 39,
      "outputs": [
        {
          "output_type": "stream",
          "name": "stdout",
          "text": [
            "Overwriting app.py\n"
          ]
        }
      ]
    },
    {
      "cell_type": "code",
      "source": [
        "!pip install streamlit pyngrok"
      ],
      "metadata": {
        "colab": {
          "base_uri": "https://localhost:8080/"
        },
        "id": "m60vQY4V41Na",
        "outputId": "0f4e9234-d471-420b-e600-4a2960ac59c5"
      },
      "execution_count": 40,
      "outputs": [
        {
          "output_type": "stream",
          "name": "stdout",
          "text": [
            "Requirement already satisfied: streamlit in /usr/local/lib/python3.11/dist-packages (1.47.1)\n",
            "Requirement already satisfied: pyngrok in /usr/local/lib/python3.11/dist-packages (7.2.12)\n",
            "Requirement already satisfied: altair<6,>=4.0 in /usr/local/lib/python3.11/dist-packages (from streamlit) (5.5.0)\n",
            "Requirement already satisfied: blinker<2,>=1.5.0 in /usr/local/lib/python3.11/dist-packages (from streamlit) (1.9.0)\n",
            "Requirement already satisfied: cachetools<7,>=4.0 in /usr/local/lib/python3.11/dist-packages (from streamlit) (5.5.2)\n",
            "Requirement already satisfied: click<9,>=7.0 in /usr/local/lib/python3.11/dist-packages (from streamlit) (8.2.1)\n",
            "Requirement already satisfied: numpy<3,>=1.23 in /usr/local/lib/python3.11/dist-packages (from streamlit) (2.0.2)\n",
            "Requirement already satisfied: packaging<26,>=20 in /usr/local/lib/python3.11/dist-packages (from streamlit) (25.0)\n",
            "Requirement already satisfied: pandas<3,>=1.4.0 in /usr/local/lib/python3.11/dist-packages (from streamlit) (2.2.2)\n",
            "Requirement already satisfied: pillow<12,>=7.1.0 in /usr/local/lib/python3.11/dist-packages (from streamlit) (11.3.0)\n",
            "Requirement already satisfied: protobuf<7,>=3.20 in /usr/local/lib/python3.11/dist-packages (from streamlit) (5.29.5)\n",
            "Requirement already satisfied: pyarrow>=7.0 in /usr/local/lib/python3.11/dist-packages (from streamlit) (18.1.0)\n",
            "Requirement already satisfied: requests<3,>=2.27 in /usr/local/lib/python3.11/dist-packages (from streamlit) (2.32.3)\n",
            "Requirement already satisfied: tenacity<10,>=8.1.0 in /usr/local/lib/python3.11/dist-packages (from streamlit) (8.5.0)\n",
            "Requirement already satisfied: toml<2,>=0.10.1 in /usr/local/lib/python3.11/dist-packages (from streamlit) (0.10.2)\n",
            "Requirement already satisfied: typing-extensions<5,>=4.4.0 in /usr/local/lib/python3.11/dist-packages (from streamlit) (4.14.1)\n",
            "Requirement already satisfied: watchdog<7,>=2.1.5 in /usr/local/lib/python3.11/dist-packages (from streamlit) (6.0.0)\n",
            "Requirement already satisfied: gitpython!=3.1.19,<4,>=3.0.7 in /usr/local/lib/python3.11/dist-packages (from streamlit) (3.1.45)\n",
            "Requirement already satisfied: pydeck<1,>=0.8.0b4 in /usr/local/lib/python3.11/dist-packages (from streamlit) (0.9.1)\n",
            "Requirement already satisfied: tornado!=6.5.0,<7,>=6.0.3 in /usr/local/lib/python3.11/dist-packages (from streamlit) (6.4.2)\n",
            "Requirement already satisfied: PyYAML>=5.1 in /usr/local/lib/python3.11/dist-packages (from pyngrok) (6.0.2)\n",
            "Requirement already satisfied: jinja2 in /usr/local/lib/python3.11/dist-packages (from altair<6,>=4.0->streamlit) (3.1.6)\n",
            "Requirement already satisfied: jsonschema>=3.0 in /usr/local/lib/python3.11/dist-packages (from altair<6,>=4.0->streamlit) (4.25.0)\n",
            "Requirement already satisfied: narwhals>=1.14.2 in /usr/local/lib/python3.11/dist-packages (from altair<6,>=4.0->streamlit) (1.48.1)\n",
            "Requirement already satisfied: gitdb<5,>=4.0.1 in /usr/local/lib/python3.11/dist-packages (from gitpython!=3.1.19,<4,>=3.0.7->streamlit) (4.0.12)\n",
            "Requirement already satisfied: python-dateutil>=2.8.2 in /usr/local/lib/python3.11/dist-packages (from pandas<3,>=1.4.0->streamlit) (2.9.0.post0)\n",
            "Requirement already satisfied: pytz>=2020.1 in /usr/local/lib/python3.11/dist-packages (from pandas<3,>=1.4.0->streamlit) (2025.2)\n",
            "Requirement already satisfied: tzdata>=2022.7 in /usr/local/lib/python3.11/dist-packages (from pandas<3,>=1.4.0->streamlit) (2025.2)\n",
            "Requirement already satisfied: charset-normalizer<4,>=2 in /usr/local/lib/python3.11/dist-packages (from requests<3,>=2.27->streamlit) (3.4.2)\n",
            "Requirement already satisfied: idna<4,>=2.5 in /usr/local/lib/python3.11/dist-packages (from requests<3,>=2.27->streamlit) (3.10)\n",
            "Requirement already satisfied: urllib3<3,>=1.21.1 in /usr/local/lib/python3.11/dist-packages (from requests<3,>=2.27->streamlit) (2.5.0)\n",
            "Requirement already satisfied: certifi>=2017.4.17 in /usr/local/lib/python3.11/dist-packages (from requests<3,>=2.27->streamlit) (2025.7.14)\n",
            "Requirement already satisfied: smmap<6,>=3.0.1 in /usr/local/lib/python3.11/dist-packages (from gitdb<5,>=4.0.1->gitpython!=3.1.19,<4,>=3.0.7->streamlit) (5.0.2)\n",
            "Requirement already satisfied: MarkupSafe>=2.0 in /usr/local/lib/python3.11/dist-packages (from jinja2->altair<6,>=4.0->streamlit) (3.0.2)\n",
            "Requirement already satisfied: attrs>=22.2.0 in /usr/local/lib/python3.11/dist-packages (from jsonschema>=3.0->altair<6,>=4.0->streamlit) (25.3.0)\n",
            "Requirement already satisfied: jsonschema-specifications>=2023.03.6 in /usr/local/lib/python3.11/dist-packages (from jsonschema>=3.0->altair<6,>=4.0->streamlit) (2025.4.1)\n",
            "Requirement already satisfied: referencing>=0.28.4 in /usr/local/lib/python3.11/dist-packages (from jsonschema>=3.0->altair<6,>=4.0->streamlit) (0.36.2)\n",
            "Requirement already satisfied: rpds-py>=0.7.1 in /usr/local/lib/python3.11/dist-packages (from jsonschema>=3.0->altair<6,>=4.0->streamlit) (0.26.0)\n",
            "Requirement already satisfied: six>=1.5 in /usr/local/lib/python3.11/dist-packages (from python-dateutil>=2.8.2->pandas<3,>=1.4.0->streamlit) (1.17.0)\n"
          ]
        }
      ]
    },
    {
      "cell_type": "code",
      "source": [
        "!ngrok config add-authtoken 30SzeuaTECErvjr1A0nJ18be1Gq_2PnYqmBR5zeeZM2KbVu1D"
      ],
      "metadata": {
        "colab": {
          "base_uri": "https://localhost:8080/"
        },
        "id": "6hmOz3bn47AY",
        "outputId": "097f43df-a6a7-4477-ddab-26e12bde56e2"
      },
      "execution_count": 41,
      "outputs": [
        {
          "output_type": "stream",
          "name": "stdout",
          "text": [
            "Authtoken saved to configuration file: /root/.config/ngrok/ngrok.yml\n"
          ]
        }
      ]
    },
    {
      "cell_type": "code",
      "source": [
        "# Establishing a secure tunnel to the Streamlit app\n",
        "import os\n",
        "import threading\n",
        "\n",
        "def run_streamlit():\n",
        "    os.system(\"streamlit run app.py & npx localtunnel --port 8501\")\n",
        "\n",
        "thread = threading.Thread(target=run_streamlit)\n",
        "thread.start()"
      ],
      "metadata": {
        "id": "dJ4CbNiv5Bpe"
      },
      "execution_count": 42,
      "outputs": []
    },
    {
      "cell_type": "code",
      "source": [
        "# creating a tunnel to the Streamlit port 8501\n",
        "from pyngrok import ngrok\n",
        "import time\n",
        "import subprocess\n",
        "\n",
        "# Start Streamlit app in background\n",
        "subprocess.Popen([\"streamlit\", \"run\", \"app.py\"])\n",
        "\n",
        "# wait a few seconds to make sure Streamlit started\n",
        "time.sleep(10)\n",
        "\n",
        "# Close existing tunnels if any\n",
        "ngrok.kill()\n",
        "\n",
        "# Create a tunnel to the Streamlit port 8504\n",
        "public_url = ngrok.connect(8501)\n",
        "print(\"Your Streamlit app is live here: \",public_url)"
      ],
      "metadata": {
        "id": "Ox_MLPxh5E8Z",
        "outputId": "7ef0a057-9f85-4057-e720-51213b13c6ee",
        "colab": {
          "base_uri": "https://localhost:8080/"
        }
      },
      "execution_count": 43,
      "outputs": [
        {
          "output_type": "stream",
          "name": "stdout",
          "text": [
            "Your Streamlit app is live here:  NgrokTunnel: \"https://9ae7199bca68.ngrok-free.app\" -> \"http://localhost:8501\"\n"
          ]
        }
      ]
    },
    {
      "cell_type": "code",
      "source": [],
      "metadata": {
        "id": "QV0Xlt2m3gDd"
      },
      "execution_count": 38,
      "outputs": []
    },
    {
      "cell_type": "code",
      "source": [],
      "metadata": {
        "id": "0nCSQ0iz5H3Y"
      },
      "execution_count": 38,
      "outputs": []
    }
  ]
}
